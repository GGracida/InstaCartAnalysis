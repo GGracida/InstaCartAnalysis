{
 "cells": [
  {
   "cell_type": "markdown",
   "id": "ef9da91d",
   "metadata": {},
   "source": [
    "# 01.Importing Libraries"
   ]
  },
  {
   "cell_type": "code",
   "execution_count": 1,
   "id": "db2a8491",
   "metadata": {},
   "outputs": [],
   "source": [
    "# Import libraries\n",
    "import pandas as pd\n",
    "import numpy as np\n",
    "import os"
   ]
  },
  {
   "cell_type": "markdown",
   "id": "8f482f08",
   "metadata": {},
   "source": [
    "# 02. Data Types"
   ]
  },
  {
   "cell_type": "code",
   "execution_count": 22,
   "id": "0b2810ea",
   "metadata": {},
   "outputs": [],
   "source": [
    "# 3 differetn ways of reaching a result of 100\n",
    "a=110\n",
    "b=90\n",
    "c=10"
   ]
  },
  {
   "cell_type": "code",
   "execution_count": 23,
   "id": "ba4b1766",
   "metadata": {},
   "outputs": [
    {
     "data": {
      "text/plain": [
       "100"
      ]
     },
     "execution_count": 23,
     "metadata": {},
     "output_type": "execute_result"
    }
   ],
   "source": [
    "a-c"
   ]
  },
  {
   "cell_type": "code",
   "execution_count": 24,
   "id": "11ffa35a",
   "metadata": {},
   "outputs": [
    {
     "data": {
      "text/plain": [
       "100"
      ]
     },
     "execution_count": 24,
     "metadata": {},
     "output_type": "execute_result"
    }
   ],
   "source": [
    "b+c"
   ]
  },
  {
   "cell_type": "code",
   "execution_count": 25,
   "id": "0853ef48",
   "metadata": {},
   "outputs": [
    {
     "data": {
      "text/plain": [
       "100"
      ]
     },
     "execution_count": 25,
     "metadata": {},
     "output_type": "execute_result"
    }
   ],
   "source": [
    "c*c"
   ]
  },
  {
   "cell_type": "code",
   "execution_count": 26,
   "id": "013013f9",
   "metadata": {},
   "outputs": [],
   "source": [
    "#  2 floating-point variables and divide them by each other\n",
    "x=3.1416\n",
    "y=57.2958"
   ]
  },
  {
   "cell_type": "code",
   "execution_count": 27,
   "id": "3c71bc15",
   "metadata": {},
   "outputs": [
    {
     "data": {
      "text/plain": [
       "0.0548312441749657"
      ]
     },
     "execution_count": 27,
     "metadata": {},
     "output_type": "execute_result"
    }
   ],
   "source": [
    "x/y"
   ]
  },
  {
   "cell_type": "code",
   "execution_count": 35,
   "id": "7db6277e",
   "metadata": {},
   "outputs": [],
   "source": [
    "# short word made of separate strings\n",
    "d='Data '\n",
    "e='Analyst'"
   ]
  },
  {
   "cell_type": "code",
   "execution_count": 36,
   "id": "f8c4c264",
   "metadata": {},
   "outputs": [
    {
     "data": {
      "text/plain": [
       "'Data Analyst'"
      ]
     },
     "execution_count": 36,
     "metadata": {},
     "output_type": "execute_result"
    }
   ],
   "source": [
    "d+e"
   ]
  },
  {
   "cell_type": "code",
   "execution_count": 37,
   "id": "6f7c447b",
   "metadata": {},
   "outputs": [],
   "source": [
    "#  2 short sentences made of separate strings\n",
    "d='I know that I know nothing, ' \n",
    "e='is a saying from Socrates'"
   ]
  },
  {
   "cell_type": "code",
   "execution_count": 38,
   "id": "92b2ddb7",
   "metadata": {},
   "outputs": [
    {
     "data": {
      "text/plain": [
       "'I know that I know nothing, is a saying from Socrates'"
      ]
     },
     "execution_count": 38,
     "metadata": {},
     "output_type": "execute_result"
    }
   ],
   "source": [
    "d+e"
   ]
  },
  {
   "cell_type": "code",
   "execution_count": 39,
   "id": "150e3ff5",
   "metadata": {},
   "outputs": [],
   "source": [
    "# string apear 100 times\n",
    "l='lemon'"
   ]
  },
  {
   "cell_type": "code",
   "execution_count": 40,
   "id": "93a32a94",
   "metadata": {},
   "outputs": [
    {
     "data": {
      "text/plain": [
       "'lemonlemonlemonlemonlemonlemonlemonlemonlemonlemonlemonlemonlemonlemonlemonlemonlemonlemonlemonlemonlemonlemonlemonlemonlemonlemonlemonlemonlemonlemonlemonlemonlemonlemonlemonlemonlemonlemonlemonlemonlemonlemonlemonlemonlemonlemonlemonlemonlemonlemonlemonlemonlemonlemonlemonlemonlemonlemonlemonlemonlemonlemonlemonlemonlemonlemonlemonlemonlemonlemonlemonlemonlemonlemonlemonlemonlemonlemonlemonlemonlemonlemonlemonlemonlemonlemonlemonlemonlemonlemonlemonlemonlemonlemonlemonlemonlemonlemonlemonlemon'"
      ]
     },
     "execution_count": 40,
     "metadata": {},
     "output_type": "execute_result"
    }
   ],
   "source": [
    "l*100"
   ]
  },
  {
   "cell_type": "code",
   "execution_count": null,
   "id": "11d93ce7",
   "metadata": {},
   "outputs": [],
   "source": []
  }
 ],
 "metadata": {
  "kernelspec": {
   "display_name": "Python 3 (ipykernel)",
   "language": "python",
   "name": "python3"
  },
  "language_info": {
   "codemirror_mode": {
    "name": "ipython",
    "version": 3
   },
   "file_extension": ".py",
   "mimetype": "text/x-python",
   "name": "python",
   "nbconvert_exporter": "python",
   "pygments_lexer": "ipython3",
   "version": "3.11.5"
  }
 },
 "nbformat": 4,
 "nbformat_minor": 5
}

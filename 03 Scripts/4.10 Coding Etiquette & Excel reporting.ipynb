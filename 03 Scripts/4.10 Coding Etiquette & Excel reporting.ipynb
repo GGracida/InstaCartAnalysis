{
 "cells": [
  {
   "cell_type": "code",
   "execution_count": 6,
   "id": "ae4591e1",
   "metadata": {},
   "outputs": [],
   "source": [
    "# Import libraries\n",
    "import pandas as pd\n",
    "import numpy as np\n",
    "import os\n",
    "import matplotlib.pyplot as plt\n",
    "import seaborn as sns\n",
    "import scipy"
   ]
  },
  {
   "cell_type": "code",
   "execution_count": 7,
   "id": "5a8cd0cc",
   "metadata": {},
   "outputs": [],
   "source": [
    "# create a main folder path variable (path)\n",
    "path = r'C:\\Users\\gra_j\\OneDrive\\Documents\\careerfounfry\\Data Immersion\\Achievement 4\\Instacart Basket Analysis'\n"
   ]
  },
  {
   "cell_type": "code",
   "execution_count": 8,
   "id": "40b093f2",
   "metadata": {},
   "outputs": [],
   "source": [
    "#  import the \"ords_prods_customers\" file from the prepared data\n",
    "df_all = pd.read_pickle(os.path.join(path, '02 Data', 'Prepared Data', 'ords_prods_customers.pkl'))"
   ]
  },
  {
   "cell_type": "code",
   "execution_count": 9,
   "id": "3d05c97d",
   "metadata": {},
   "outputs": [
    {
     "data": {
      "text/plain": [
       "0           Low Spender\n",
       "1           Low Spender\n",
       "2           Low Spender\n",
       "3           Low Spender\n",
       "4           Low Spender\n",
       "               ...     \n",
       "32404854    Low Spender\n",
       "32404855    Low Spender\n",
       "32404856    Low Spender\n",
       "32404857    Low Spender\n",
       "32404858    Low Spender\n",
       "Name: spending_flag, Length: 32404859, dtype: object"
      ]
     },
     "execution_count": 9,
     "metadata": {},
     "output_type": "execute_result"
    }
   ],
   "source": [
    "df_all['spending_flag']"
   ]
  },
  {
   "cell_type": "code",
   "execution_count": 10,
   "id": "088a9097",
   "metadata": {},
   "outputs": [
    {
     "data": {
      "text/plain": [
       "(32404859, 33)"
      ]
     },
     "execution_count": 10,
     "metadata": {},
     "output_type": "execute_result"
    }
   ],
   "source": [
    "df_all.shape"
   ]
  },
  {
   "cell_type": "markdown",
   "id": "9ec2df69",
   "metadata": {},
   "source": [
    "#### 2. This Data set contain personally indentifiable information such as age, number of dependants, family status, income, surename and first name."
   ]
  },
  {
   "cell_type": "code",
   "execution_count": 11,
   "id": "56df63f5",
   "metadata": {},
   "outputs": [],
   "source": [
    "# create a new column \"region\"  and assign the corresponding region \n",
    "\n",
    "df_all['region'] = 'south'\n",
    "\n",
    "df_all.loc[df_all['state'].isin(['Maine', 'New Hampshire', 'Vermont', 'Massachusetts', 'Rhode Island', 'Connecticut', 'New York', 'Pennsylvania', 'New Jersey']), 'region'] = 'Northeast'\n",
    "\n",
    "df_all.loc[df_all['state'].isin(['Wisconsin', 'Michigan', 'Illinois', 'Indiana', 'Ohio', 'North Dakota', 'South Dakota', 'Nebraska', 'Kansas', 'Minnesota', 'Iowa', 'Missouri']), 'region'] = 'Midwest'\n",
    "\n",
    "df_all.loc[df_all['state'].isin(['Idaho', 'Montana', 'Wyoming', 'Nevada', 'Utah', 'Colorado', 'Arizona', 'New Mexico', 'Alaska', 'Washington', 'Oregon', 'California', 'Hawaii']), 'region'] = 'West'"
   ]
  },
  {
   "cell_type": "code",
   "execution_count": 12,
   "id": "dbb8f091",
   "metadata": {},
   "outputs": [
    {
     "data": {
      "text/plain": [
       "region\n",
       "south        10791885\n",
       "West          8292913\n",
       "Midwest       7597325\n",
       "Northeast     5722736\n",
       "Name: count, dtype: int64"
      ]
     },
     "execution_count": 12,
     "metadata": {},
     "output_type": "execute_result"
    }
   ],
   "source": [
    "# Chek the frecuency of the \"region\" column\n",
    "df_all['region'].value_counts(dropna = False)"
   ]
  },
  {
   "cell_type": "code",
   "execution_count": 13,
   "id": "ef47cb8c",
   "metadata": {},
   "outputs": [],
   "source": [
    "# Pivot spending_flag base on region\n",
    "spend_by_region = pd.crosstab(df_all['region'], df_all['spending_flag'], dropna = False).sort_values(by = 'High spender', ascending = False)"
   ]
  },
  {
   "cell_type": "code",
   "execution_count": 14,
   "id": "041ec8b1",
   "metadata": {},
   "outputs": [
    {
     "data": {
      "text/html": [
       "<div>\n",
       "<style scoped>\n",
       "    .dataframe tbody tr th:only-of-type {\n",
       "        vertical-align: middle;\n",
       "    }\n",
       "\n",
       "    .dataframe tbody tr th {\n",
       "        vertical-align: top;\n",
       "    }\n",
       "\n",
       "    .dataframe thead th {\n",
       "        text-align: right;\n",
       "    }\n",
       "</style>\n",
       "<table border=\"1\" class=\"dataframe\">\n",
       "  <thead>\n",
       "    <tr style=\"text-align: right;\">\n",
       "      <th>spending_flag</th>\n",
       "      <th>High spender</th>\n",
       "      <th>Low Spender</th>\n",
       "    </tr>\n",
       "    <tr>\n",
       "      <th>region</th>\n",
       "      <th></th>\n",
       "      <th></th>\n",
       "    </tr>\n",
       "  </thead>\n",
       "  <tbody>\n",
       "    <tr>\n",
       "      <th>south</th>\n",
       "      <td>209691</td>\n",
       "      <td>10582194</td>\n",
       "    </tr>\n",
       "    <tr>\n",
       "      <th>West</th>\n",
       "      <td>160354</td>\n",
       "      <td>8132559</td>\n",
       "    </tr>\n",
       "    <tr>\n",
       "      <th>Midwest</th>\n",
       "      <td>155975</td>\n",
       "      <td>7441350</td>\n",
       "    </tr>\n",
       "    <tr>\n",
       "      <th>Northeast</th>\n",
       "      <td>108225</td>\n",
       "      <td>5614511</td>\n",
       "    </tr>\n",
       "  </tbody>\n",
       "</table>\n",
       "</div>"
      ],
      "text/plain": [
       "spending_flag  High spender  Low Spender\n",
       "region                                  \n",
       "south                209691     10582194\n",
       "West                 160354      8132559\n",
       "Midwest              155975      7441350\n",
       "Northeast            108225      5614511"
      ]
     },
     "execution_count": 14,
     "metadata": {},
     "output_type": "execute_result"
    }
   ],
   "source": [
    "# show result of spend by region.\n",
    "spend_by_region"
   ]
  },
  {
   "cell_type": "code",
   "execution_count": 15,
   "id": "488355c9",
   "metadata": {},
   "outputs": [],
   "source": [
    "# Define low_activity customers\n",
    "df_all.loc[df_all['order_number'] < 5, 'customer_activity_flag'] = 'low_activity customers'\n",
    "\n",
    "# Define high_activity customers\n",
    "df_all.loc[df_all['order_number'] >= 5, 'customer_activity_flag'] = 'high_activity customer'"
   ]
  },
  {
   "cell_type": "code",
   "execution_count": 16,
   "id": "8f5cdce0",
   "metadata": {},
   "outputs": [
    {
     "data": {
      "text/plain": [
       "customer_activity_flag\n",
       "high_activity customer    24414877\n",
       "low_activity customers     7989982\n",
       "Name: count, dtype: int64"
      ]
     },
     "execution_count": 16,
     "metadata": {},
     "output_type": "execute_result"
    }
   ],
   "source": [
    "# check frequency of \"customer_activity_flag\" column\n",
    "df_all['customer_activity_flag'].value_counts(dropna= False)"
   ]
  },
  {
   "cell_type": "code",
   "execution_count": 17,
   "id": "f4ba166f",
   "metadata": {},
   "outputs": [
    {
     "data": {
      "text/plain": [
       "18"
      ]
     },
     "execution_count": 17,
     "metadata": {},
     "output_type": "execute_result"
    }
   ],
   "source": [
    "# look for the minimum age value\n",
    "df_all['age'].min()"
   ]
  },
  {
   "cell_type": "code",
   "execution_count": 18,
   "id": "662a717b",
   "metadata": {},
   "outputs": [
    {
     "data": {
      "text/plain": [
       "81"
      ]
     },
     "execution_count": 18,
     "metadata": {},
     "output_type": "execute_result"
    }
   ],
   "source": [
    "# look for the maximum age value\n",
    "df_all['age'].max()"
   ]
  },
  {
   "cell_type": "code",
   "execution_count": 19,
   "id": "625e07ba",
   "metadata": {},
   "outputs": [
    {
     "data": {
      "text/plain": [
       "25903"
      ]
     },
     "execution_count": 19,
     "metadata": {},
     "output_type": "execute_result"
    }
   ],
   "source": [
    "#look for the minimum income value\n",
    "df_all['income'].min()"
   ]
  },
  {
   "cell_type": "code",
   "execution_count": 20,
   "id": "7cc2909f",
   "metadata": {},
   "outputs": [
    {
     "data": {
      "text/plain": [
       "593901"
      ]
     },
     "execution_count": 20,
     "metadata": {},
     "output_type": "execute_result"
    }
   ],
   "source": [
    "# look for the maximum income value\n",
    "df_all['income'].max()"
   ]
  },
  {
   "cell_type": "markdown",
   "id": "35d04479",
   "metadata": {},
   "source": [
    "## customer profiling"
   ]
  },
  {
   "cell_type": "markdown",
   "id": "b4cf0b0a",
   "metadata": {},
   "source": [
    "The **age** variable will be divided in to three categories: **young adult** (18-39)\", **middle age** (40-59), and **senior** (60+)\n",
    "\n",
    "The **income** variable will be divided in to 3 categories:\n",
    "**lower class** (25903-55000), **middle class** (55001-149131), **upper class** (149132 +)"
   ]
  },
  {
   "cell_type": "code",
   "execution_count": 21,
   "id": "418b7bd4",
   "metadata": {},
   "outputs": [],
   "source": [
    "# Define lower_class young adult group\n",
    "df_all.loc[(df_all['age'] >= 18) & (df_all['age'] <= 39) \n",
    "         & (df_all['income'] >= 25903) & (df_all['income'] <= 55000),\n",
    "      \n",
    "         'customer_profile'] = 'lower-class young adult'"
   ]
  },
  {
   "cell_type": "code",
   "execution_count": 22,
   "id": "6ce61de2",
   "metadata": {},
   "outputs": [],
   "source": [
    "# Define lower_class middle age adult group\n",
    "df_all.loc[(df_all['age'] >= 40) & (df_all['age'] <= 59) \n",
    "         & (df_all['income'] >= 25903) & (df_all['income'] <= 55000),\n",
    "      \n",
    "         'customer_profile'] = 'lower_class middle age'"
   ]
  },
  {
   "cell_type": "code",
   "execution_count": 23,
   "id": "b42217ed",
   "metadata": {},
   "outputs": [],
   "source": [
    "# Define lower_class senior adult group\n",
    "df_all.loc[(df_all['age'] >= 60) \n",
    "         & (df_all['income'] >= 25903) & (df_all['income'] <= 55000),\n",
    "      \n",
    "         'customer_profile'] = 'lower_class senior'"
   ]
  },
  {
   "cell_type": "code",
   "execution_count": 24,
   "id": "a4a129a0",
   "metadata": {},
   "outputs": [],
   "source": [
    "# Define middle_class young adult group\n",
    "df_all.loc[(df_all['age'] >= 18) & (df_all['age'] <= 39) \n",
    "         & (df_all['income'] >= 55001) & (df_all['income'] <= 149131),\n",
    "      \n",
    "         'customer_profile'] = 'middle_class young adult'"
   ]
  },
  {
   "cell_type": "code",
   "execution_count": 25,
   "id": "e96b4b5f",
   "metadata": {},
   "outputs": [],
   "source": [
    "# Define middle_class middle age group\n",
    "df_all.loc[(df_all['age'] >= 40) & (df_all['age'] <= 59) \n",
    "         & (df_all['income'] >= 55001) & (df_all['income'] <= 149131),\n",
    "      \n",
    "         'customer_profile'] = 'middle_class middle age'"
   ]
  },
  {
   "cell_type": "code",
   "execution_count": 26,
   "id": "7894979f",
   "metadata": {},
   "outputs": [],
   "source": [
    "# Define middle_class senior group\n",
    "df_all.loc[(df_all['age'] >= 60)  \n",
    "         & (df_all['income'] >= 55001) & (df_all['income'] <= 149131),\n",
    "      \n",
    "         'customer_profile'] = 'middle_class senior'"
   ]
  },
  {
   "cell_type": "code",
   "execution_count": 27,
   "id": "772abacf",
   "metadata": {},
   "outputs": [],
   "source": [
    "# Define upper_class young adult group\n",
    "df_all.loc[(df_all['age'] >= 18) & (df_all['age'] <= 39) \n",
    "         & (df_all['income'] >= 149132),\n",
    "      \n",
    "         'customer_profile'] = 'upper-class young adult'"
   ]
  },
  {
   "cell_type": "code",
   "execution_count": 28,
   "id": "9297283d",
   "metadata": {},
   "outputs": [],
   "source": [
    "# Define upper_class middle age group\n",
    "df_all.loc[(df_all['age'] >= 40) & (df_all['age'] <= 59) \n",
    "         & (df_all['income'] >= 149132),\n",
    "      \n",
    "         'customer_profile'] = 'upper-class middle age'"
   ]
  },
  {
   "cell_type": "code",
   "execution_count": 29,
   "id": "da756996",
   "metadata": {},
   "outputs": [],
   "source": [
    "# Define upper_class senior age group\n",
    "df_all.loc[(df_all['age'] >= 60) \n",
    "         & (df_all['income'] >= 149132),\n",
    "      \n",
    "         'customer_profile'] = 'upper-class senior'"
   ]
  },
  {
   "cell_type": "code",
   "execution_count": 30,
   "id": "701330fc",
   "metadata": {},
   "outputs": [],
   "source": [
    "# Familiy status count by customer profile\n",
    "prof_fam_status = pd.crosstab(df_all['customer_profile'], df_all['fam_status'], dropna = False)\n"
   ]
  },
  {
   "cell_type": "code",
   "execution_count": 31,
   "id": "489b132f",
   "metadata": {},
   "outputs": [
    {
     "data": {
      "text/html": [
       "<div>\n",
       "<style scoped>\n",
       "    .dataframe tbody tr th:only-of-type {\n",
       "        vertical-align: middle;\n",
       "    }\n",
       "\n",
       "    .dataframe tbody tr th {\n",
       "        vertical-align: top;\n",
       "    }\n",
       "\n",
       "    .dataframe thead th {\n",
       "        text-align: right;\n",
       "    }\n",
       "</style>\n",
       "<table border=\"1\" class=\"dataframe\">\n",
       "  <thead>\n",
       "    <tr style=\"text-align: right;\">\n",
       "      <th>fam_status</th>\n",
       "      <th>divorced/widowed</th>\n",
       "      <th>living with parents and siblings</th>\n",
       "      <th>married</th>\n",
       "      <th>single</th>\n",
       "    </tr>\n",
       "    <tr>\n",
       "      <th>customer_profile</th>\n",
       "      <th></th>\n",
       "      <th></th>\n",
       "      <th></th>\n",
       "      <th></th>\n",
       "    </tr>\n",
       "  </thead>\n",
       "  <tbody>\n",
       "    <tr>\n",
       "      <th>lower-class young adult</th>\n",
       "      <td>0</td>\n",
       "      <td>357531</td>\n",
       "      <td>1553035</td>\n",
       "      <td>652392</td>\n",
       "    </tr>\n",
       "    <tr>\n",
       "      <th>lower_class middle age</th>\n",
       "      <td>0</td>\n",
       "      <td>0</td>\n",
       "      <td>806772</td>\n",
       "      <td>267486</td>\n",
       "    </tr>\n",
       "    <tr>\n",
       "      <th>lower_class senior</th>\n",
       "      <td>264884</td>\n",
       "      <td>0</td>\n",
       "      <td>837885</td>\n",
       "      <td>0</td>\n",
       "    </tr>\n",
       "    <tr>\n",
       "      <th>middle_class middle age</th>\n",
       "      <td>0</td>\n",
       "      <td>0</td>\n",
       "      <td>5389804</td>\n",
       "      <td>1776023</td>\n",
       "    </tr>\n",
       "    <tr>\n",
       "      <th>middle_class senior</th>\n",
       "      <td>1951305</td>\n",
       "      <td>0</td>\n",
       "      <td>5832854</td>\n",
       "      <td>0</td>\n",
       "    </tr>\n",
       "    <tr>\n",
       "      <th>middle_class young adult</th>\n",
       "      <td>0</td>\n",
       "      <td>1177785</td>\n",
       "      <td>5213778</td>\n",
       "      <td>2105474</td>\n",
       "    </tr>\n",
       "    <tr>\n",
       "      <th>upper-class middle age</th>\n",
       "      <td>0</td>\n",
       "      <td>0</td>\n",
       "      <td>1432975</td>\n",
       "      <td>500352</td>\n",
       "    </tr>\n",
       "    <tr>\n",
       "      <th>upper-class senior</th>\n",
       "      <td>555623</td>\n",
       "      <td>0</td>\n",
       "      <td>1624704</td>\n",
       "      <td>0</td>\n",
       "    </tr>\n",
       "    <tr>\n",
       "      <th>upper-class young adult</th>\n",
       "      <td>0</td>\n",
       "      <td>15287</td>\n",
       "      <td>64946</td>\n",
       "      <td>23964</td>\n",
       "    </tr>\n",
       "  </tbody>\n",
       "</table>\n",
       "</div>"
      ],
      "text/plain": [
       "fam_status                divorced/widowed  living with parents and siblings  \\\n",
       "customer_profile                                                               \n",
       "lower-class young adult                  0                            357531   \n",
       "lower_class middle age                   0                                 0   \n",
       "lower_class senior                  264884                                 0   \n",
       "middle_class middle age                  0                                 0   \n",
       "middle_class senior                1951305                                 0   \n",
       "middle_class young adult                 0                           1177785   \n",
       "upper-class middle age                   0                                 0   \n",
       "upper-class senior                  555623                                 0   \n",
       "upper-class young adult                  0                             15287   \n",
       "\n",
       "fam_status                married   single  \n",
       "customer_profile                            \n",
       "lower-class young adult   1553035   652392  \n",
       "lower_class middle age     806772   267486  \n",
       "lower_class senior         837885        0  \n",
       "middle_class middle age   5389804  1776023  \n",
       "middle_class senior       5832854        0  \n",
       "middle_class young adult  5213778  2105474  \n",
       "upper-class middle age    1432975   500352  \n",
       "upper-class senior        1624704        0  \n",
       "upper-class young adult     64946    23964  "
      ]
     },
     "execution_count": 31,
     "metadata": {},
     "output_type": "execute_result"
    }
   ],
   "source": [
    "prof_fam_status"
   ]
  },
  {
   "cell_type": "code",
   "execution_count": 32,
   "id": "27e3a77b",
   "metadata": {},
   "outputs": [],
   "source": [
    "# Number of dependants by customer profile\n",
    "dependants_by_custprof= pd.crosstab(df_all['customer_profile'], df_all['n_dependants'], dropna = False)"
   ]
  },
  {
   "cell_type": "code",
   "execution_count": 33,
   "id": "a2ee19d6",
   "metadata": {},
   "outputs": [
    {
     "data": {
      "text/html": [
       "<div>\n",
       "<style scoped>\n",
       "    .dataframe tbody tr th:only-of-type {\n",
       "        vertical-align: middle;\n",
       "    }\n",
       "\n",
       "    .dataframe tbody tr th {\n",
       "        vertical-align: top;\n",
       "    }\n",
       "\n",
       "    .dataframe thead th {\n",
       "        text-align: right;\n",
       "    }\n",
       "</style>\n",
       "<table border=\"1\" class=\"dataframe\">\n",
       "  <thead>\n",
       "    <tr style=\"text-align: right;\">\n",
       "      <th>n_dependants</th>\n",
       "      <th>0</th>\n",
       "      <th>1</th>\n",
       "      <th>2</th>\n",
       "      <th>3</th>\n",
       "    </tr>\n",
       "    <tr>\n",
       "      <th>customer_profile</th>\n",
       "      <th></th>\n",
       "      <th></th>\n",
       "      <th></th>\n",
       "      <th></th>\n",
       "    </tr>\n",
       "  </thead>\n",
       "  <tbody>\n",
       "    <tr>\n",
       "      <th>lower-class young adult</th>\n",
       "      <td>652392</td>\n",
       "      <td>630486</td>\n",
       "      <td>647798</td>\n",
       "      <td>632282</td>\n",
       "    </tr>\n",
       "    <tr>\n",
       "      <th>lower_class middle age</th>\n",
       "      <td>267486</td>\n",
       "      <td>272464</td>\n",
       "      <td>264024</td>\n",
       "      <td>270284</td>\n",
       "    </tr>\n",
       "    <tr>\n",
       "      <th>lower_class senior</th>\n",
       "      <td>264884</td>\n",
       "      <td>275596</td>\n",
       "      <td>283735</td>\n",
       "      <td>278554</td>\n",
       "    </tr>\n",
       "    <tr>\n",
       "      <th>middle_class middle age</th>\n",
       "      <td>1776023</td>\n",
       "      <td>1822405</td>\n",
       "      <td>1760548</td>\n",
       "      <td>1806851</td>\n",
       "    </tr>\n",
       "    <tr>\n",
       "      <th>middle_class senior</th>\n",
       "      <td>1951305</td>\n",
       "      <td>1902700</td>\n",
       "      <td>1970116</td>\n",
       "      <td>1960038</td>\n",
       "    </tr>\n",
       "    <tr>\n",
       "      <th>middle_class young adult</th>\n",
       "      <td>2105474</td>\n",
       "      <td>2128538</td>\n",
       "      <td>2120542</td>\n",
       "      <td>2142483</td>\n",
       "    </tr>\n",
       "    <tr>\n",
       "      <th>upper-class middle age</th>\n",
       "      <td>500352</td>\n",
       "      <td>494729</td>\n",
       "      <td>464536</td>\n",
       "      <td>473710</td>\n",
       "    </tr>\n",
       "    <tr>\n",
       "      <th>upper-class senior</th>\n",
       "      <td>555623</td>\n",
       "      <td>528213</td>\n",
       "      <td>552694</td>\n",
       "      <td>543797</td>\n",
       "    </tr>\n",
       "    <tr>\n",
       "      <th>upper-class young adult</th>\n",
       "      <td>23964</td>\n",
       "      <td>25973</td>\n",
       "      <td>27150</td>\n",
       "      <td>27110</td>\n",
       "    </tr>\n",
       "  </tbody>\n",
       "</table>\n",
       "</div>"
      ],
      "text/plain": [
       "n_dependants                    0        1        2        3\n",
       "customer_profile                                            \n",
       "lower-class young adult    652392   630486   647798   632282\n",
       "lower_class middle age     267486   272464   264024   270284\n",
       "lower_class senior         264884   275596   283735   278554\n",
       "middle_class middle age   1776023  1822405  1760548  1806851\n",
       "middle_class senior       1951305  1902700  1970116  1960038\n",
       "middle_class young adult  2105474  2128538  2120542  2142483\n",
       "upper-class middle age     500352   494729   464536   473710\n",
       "upper-class senior         555623   528213   552694   543797\n",
       "upper-class young adult     23964    25973    27150    27110"
      ]
     },
     "execution_count": 33,
     "metadata": {},
     "output_type": "execute_result"
    }
   ],
   "source": [
    "dependants_by_custprof"
   ]
  },
  {
   "cell_type": "markdown",
   "id": "3c733921",
   "metadata": {},
   "source": [
    "## 6. Distribution of customer profile"
   ]
  },
  {
   "cell_type": "code",
   "execution_count": 34,
   "id": "24bd85f3",
   "metadata": {
    "scrolled": true
   },
   "outputs": [
    {
     "data": {
      "text/plain": [
       "customer_profile\n",
       "middle_class young adult    8497037\n",
       "middle_class senior         7784159\n",
       "middle_class middle age     7165827\n",
       "lower-class young adult     2562958\n",
       "upper-class senior          2180327\n",
       "upper-class middle age      1933327\n",
       "lower_class senior          1102769\n",
       "lower_class middle age      1074258\n",
       "upper-class young adult      104197\n",
       "Name: count, dtype: int64"
      ]
     },
     "execution_count": 34,
     "metadata": {},
     "output_type": "execute_result"
    }
   ],
   "source": [
    "# Chek the frecuency of the \"customer_profile\" column\n",
    "df_all['customer_profile'].value_counts(dropna = False)"
   ]
  },
  {
   "cell_type": "code",
   "execution_count": 35,
   "id": "c2c35418",
   "metadata": {},
   "outputs": [
    {
     "data": {
      "text/plain": [
       "Text(0.5, 0, 'User Count')"
      ]
     },
     "execution_count": 35,
     "metadata": {},
     "output_type": "execute_result"
    },
    {
     "data": {
      "image/png": "[encoded data removed]",
      "text/plain": [
       "<Figure size 640x480 with 1 Axes>"
      ]
     },
     "metadata": {},
     "output_type": "display_data"
    }
   ],
   "source": [
    "# plot the count of distribution of customer profile\n",
    "df_all['customer_profile'].value_counts().sort_values(ascending= True).plot.barh()\n",
    "plt.title('Distribution of Customer profile')\n",
    "plt.ylabel('') \n",
    "plt.xlabel('User Count')"
   ]
  },
  {
   "cell_type": "code",
   "execution_count": 36,
   "id": "7de9ae95",
   "metadata": {},
   "outputs": [],
   "source": [
    "# Order frequency by customer profile\n",
    "freq_by_custprof = df_all.groupby('customer_profile').agg({'days_since_prior_order': ['mean','min','max']})"
   ]
  },
  {
   "cell_type": "code",
   "execution_count": 37,
   "id": "ea80ef22",
   "metadata": {},
   "outputs": [
    {
     "data": {
      "text/html": [
       "<div>\n",
       "<style scoped>\n",
       "    .dataframe tbody tr th:only-of-type {\n",
       "        vertical-align: middle;\n",
       "    }\n",
       "\n",
       "    .dataframe tbody tr th {\n",
       "        vertical-align: top;\n",
       "    }\n",
       "\n",
       "    .dataframe thead tr th {\n",
       "        text-align: left;\n",
       "    }\n",
       "\n",
       "    .dataframe thead tr:last-of-type th {\n",
       "        text-align: right;\n",
       "    }\n",
       "</style>\n",
       "<table border=\"1\" class=\"dataframe\">\n",
       "  <thead>\n",
       "    <tr>\n",
       "      <th></th>\n",
       "      <th colspan=\"3\" halign=\"left\">days_since_prior_order</th>\n",
       "    </tr>\n",
       "    <tr>\n",
       "      <th></th>\n",
       "      <th>mean</th>\n",
       "      <th>min</th>\n",
       "      <th>max</th>\n",
       "    </tr>\n",
       "    <tr>\n",
       "      <th>customer_profile</th>\n",
       "      <th></th>\n",
       "      <th></th>\n",
       "      <th></th>\n",
       "    </tr>\n",
       "  </thead>\n",
       "  <tbody>\n",
       "    <tr>\n",
       "      <th>lower-class young adult</th>\n",
       "      <td>11.444093</td>\n",
       "      <td>0.0</td>\n",
       "      <td>30.0</td>\n",
       "    </tr>\n",
       "    <tr>\n",
       "      <th>lower_class middle age</th>\n",
       "      <td>11.641952</td>\n",
       "      <td>0.0</td>\n",
       "      <td>30.0</td>\n",
       "    </tr>\n",
       "    <tr>\n",
       "      <th>lower_class senior</th>\n",
       "      <td>11.598652</td>\n",
       "      <td>0.0</td>\n",
       "      <td>30.0</td>\n",
       "    </tr>\n",
       "    <tr>\n",
       "      <th>middle_class middle age</th>\n",
       "      <td>11.076059</td>\n",
       "      <td>0.0</td>\n",
       "      <td>30.0</td>\n",
       "    </tr>\n",
       "    <tr>\n",
       "      <th>middle_class senior</th>\n",
       "      <td>11.064046</td>\n",
       "      <td>0.0</td>\n",
       "      <td>30.0</td>\n",
       "    </tr>\n",
       "    <tr>\n",
       "      <th>middle_class young adult</th>\n",
       "      <td>11.015018</td>\n",
       "      <td>0.0</td>\n",
       "      <td>30.0</td>\n",
       "    </tr>\n",
       "    <tr>\n",
       "      <th>upper-class middle age</th>\n",
       "      <td>10.955697</td>\n",
       "      <td>0.0</td>\n",
       "      <td>30.0</td>\n",
       "    </tr>\n",
       "    <tr>\n",
       "      <th>upper-class senior</th>\n",
       "      <td>10.941411</td>\n",
       "      <td>0.0</td>\n",
       "      <td>30.0</td>\n",
       "    </tr>\n",
       "    <tr>\n",
       "      <th>upper-class young adult</th>\n",
       "      <td>10.491285</td>\n",
       "      <td>0.0</td>\n",
       "      <td>30.0</td>\n",
       "    </tr>\n",
       "  </tbody>\n",
       "</table>\n",
       "</div>"
      ],
      "text/plain": [
       "                         days_since_prior_order           \n",
       "                                           mean  min   max\n",
       "customer_profile                                          \n",
       "lower-class young adult               11.444093  0.0  30.0\n",
       "lower_class middle age                11.641952  0.0  30.0\n",
       "lower_class senior                    11.598652  0.0  30.0\n",
       "middle_class middle age               11.076059  0.0  30.0\n",
       "middle_class senior                   11.064046  0.0  30.0\n",
       "middle_class young adult              11.015018  0.0  30.0\n",
       "upper-class middle age                10.955697  0.0  30.0\n",
       "upper-class senior                    10.941411  0.0  30.0\n",
       "upper-class young adult               10.491285  0.0  30.0"
      ]
     },
     "execution_count": 37,
     "metadata": {},
     "output_type": "execute_result"
    }
   ],
   "source": [
    "freq_by_custprof"
   ]
  },
  {
   "cell_type": "code",
   "execution_count": 38,
   "id": "127ab294",
   "metadata": {},
   "outputs": [],
   "source": [
    "# Expenditure by customer profile\n",
    "price_by_custprof = df_all.groupby('customer_profile').agg({'prices': ['mean', 'min', 'max']})"
   ]
  },
  {
   "cell_type": "code",
   "execution_count": 39,
   "id": "2ff97db8",
   "metadata": {},
   "outputs": [
    {
     "data": {
      "text/html": [
       "<div>\n",
       "<style scoped>\n",
       "    .dataframe tbody tr th:only-of-type {\n",
       "        vertical-align: middle;\n",
       "    }\n",
       "\n",
       "    .dataframe tbody tr th {\n",
       "        vertical-align: top;\n",
       "    }\n",
       "\n",
       "    .dataframe thead tr th {\n",
       "        text-align: left;\n",
       "    }\n",
       "\n",
       "    .dataframe thead tr:last-of-type th {\n",
       "        text-align: right;\n",
       "    }\n",
       "</style>\n",
       "<table border=\"1\" class=\"dataframe\">\n",
       "  <thead>\n",
       "    <tr>\n",
       "      <th></th>\n",
       "      <th colspan=\"3\" halign=\"left\">prices</th>\n",
       "    </tr>\n",
       "    <tr>\n",
       "      <th></th>\n",
       "      <th>mean</th>\n",
       "      <th>min</th>\n",
       "      <th>max</th>\n",
       "    </tr>\n",
       "    <tr>\n",
       "      <th>customer_profile</th>\n",
       "      <th></th>\n",
       "      <th></th>\n",
       "      <th></th>\n",
       "    </tr>\n",
       "  </thead>\n",
       "  <tbody>\n",
       "    <tr>\n",
       "      <th>lower-class young adult</th>\n",
       "      <td>7.220530</td>\n",
       "      <td>1.0</td>\n",
       "      <td>25.0</td>\n",
       "    </tr>\n",
       "    <tr>\n",
       "      <th>lower_class middle age</th>\n",
       "      <td>6.560824</td>\n",
       "      <td>1.0</td>\n",
       "      <td>25.0</td>\n",
       "    </tr>\n",
       "    <tr>\n",
       "      <th>lower_class senior</th>\n",
       "      <td>6.503078</td>\n",
       "      <td>1.0</td>\n",
       "      <td>25.0</td>\n",
       "    </tr>\n",
       "    <tr>\n",
       "      <th>middle_class middle age</th>\n",
       "      <td>9.248857</td>\n",
       "      <td>1.0</td>\n",
       "      <td>99999.0</td>\n",
       "    </tr>\n",
       "    <tr>\n",
       "      <th>middle_class senior</th>\n",
       "      <td>9.110421</td>\n",
       "      <td>1.0</td>\n",
       "      <td>99999.0</td>\n",
       "    </tr>\n",
       "    <tr>\n",
       "      <th>middle_class young adult</th>\n",
       "      <td>9.748274</td>\n",
       "      <td>1.0</td>\n",
       "      <td>99999.0</td>\n",
       "    </tr>\n",
       "    <tr>\n",
       "      <th>upper-class middle age</th>\n",
       "      <td>25.875972</td>\n",
       "      <td>1.0</td>\n",
       "      <td>99999.0</td>\n",
       "    </tr>\n",
       "    <tr>\n",
       "      <th>upper-class senior</th>\n",
       "      <td>23.895261</td>\n",
       "      <td>1.0</td>\n",
       "      <td>99999.0</td>\n",
       "    </tr>\n",
       "    <tr>\n",
       "      <th>upper-class young adult</th>\n",
       "      <td>319.988831</td>\n",
       "      <td>1.0</td>\n",
       "      <td>99999.0</td>\n",
       "    </tr>\n",
       "  </tbody>\n",
       "</table>\n",
       "</div>"
      ],
      "text/plain": [
       "                              prices              \n",
       "                                mean  min      max\n",
       "customer_profile                                  \n",
       "lower-class young adult     7.220530  1.0     25.0\n",
       "lower_class middle age      6.560824  1.0     25.0\n",
       "lower_class senior          6.503078  1.0     25.0\n",
       "middle_class middle age     9.248857  1.0  99999.0\n",
       "middle_class senior         9.110421  1.0  99999.0\n",
       "middle_class young adult    9.748274  1.0  99999.0\n",
       "upper-class middle age     25.875972  1.0  99999.0\n",
       "upper-class senior         23.895261  1.0  99999.0\n",
       "upper-class young adult   319.988831  1.0  99999.0"
      ]
     },
     "execution_count": 39,
     "metadata": {},
     "output_type": "execute_result"
    }
   ],
   "source": [
    "price_by_custprof"
   ]
  },
  {
   "cell_type": "markdown",
   "id": "59616d21",
   "metadata": {},
   "source": [
    "## 8. Customer analysis by region "
   ]
  },
  {
   "cell_type": "markdown",
   "id": "5a194b3d",
   "metadata": {},
   "source": [
    "#### South Region"
   ]
  },
  {
   "cell_type": "code",
   "execution_count": 40,
   "id": "22bec3c1",
   "metadata": {},
   "outputs": [],
   "source": [
    "# Creat subset from \"df_all\" only containing data from the south region\n",
    "south_customer = df_all[df_all['region']== 'south']"
   ]
  },
  {
   "cell_type": "code",
   "execution_count": 41,
   "id": "bb731c85",
   "metadata": {},
   "outputs": [
    {
     "data": {
      "text/html": [
       "<div>\n",
       "<style scoped>\n",
       "    .dataframe tbody tr th:only-of-type {\n",
       "        vertical-align: middle;\n",
       "    }\n",
       "\n",
       "    .dataframe tbody tr th {\n",
       "        vertical-align: top;\n",
       "    }\n",
       "\n",
       "    .dataframe thead th {\n",
       "        text-align: right;\n",
       "    }\n",
       "</style>\n",
       "<table border=\"1\" class=\"dataframe\">\n",
       "  <thead>\n",
       "    <tr style=\"text-align: right;\">\n",
       "      <th></th>\n",
       "      <th>product_id</th>\n",
       "      <th>aisle_id</th>\n",
       "      <th>department_id</th>\n",
       "      <th>prices</th>\n",
       "      <th>order_id</th>\n",
       "      <th>user_id</th>\n",
       "      <th>order_number</th>\n",
       "      <th>orders_day_of_week</th>\n",
       "      <th>order_hour_of_day</th>\n",
       "      <th>days_since_prior_order</th>\n",
       "      <th>add_to_cart_order</th>\n",
       "      <th>reordered</th>\n",
       "      <th>max_order</th>\n",
       "      <th>mean_prices_of_products</th>\n",
       "      <th>median_days_prior_order</th>\n",
       "      <th>age</th>\n",
       "      <th>n_dependants</th>\n",
       "      <th>income</th>\n",
       "    </tr>\n",
       "  </thead>\n",
       "  <tbody>\n",
       "    <tr>\n",
       "      <th>count</th>\n",
       "      <td>1.079188e+07</td>\n",
       "      <td>1.079188e+07</td>\n",
       "      <td>1.079188e+07</td>\n",
       "      <td>1.079188e+07</td>\n",
       "      <td>1.079188e+07</td>\n",
       "      <td>1.079188e+07</td>\n",
       "      <td>1.079188e+07</td>\n",
       "      <td>1.079188e+07</td>\n",
       "      <td>1.079188e+07</td>\n",
       "      <td>1.009982e+07</td>\n",
       "      <td>1.079188e+07</td>\n",
       "      <td>1.079188e+07</td>\n",
       "      <td>1.079188e+07</td>\n",
       "      <td>1.079188e+07</td>\n",
       "      <td>1.079188e+07</td>\n",
       "      <td>1.079188e+07</td>\n",
       "      <td>1.079188e+07</td>\n",
       "      <td>1.079188e+07</td>\n",
       "    </tr>\n",
       "    <tr>\n",
       "      <th>mean</th>\n",
       "      <td>2.560199e+04</td>\n",
       "      <td>7.121302e+01</td>\n",
       "      <td>9.910016e+00</td>\n",
       "      <td>1.219558e+01</td>\n",
       "      <td>1.710395e+06</td>\n",
       "      <td>1.026769e+05</td>\n",
       "      <td>1.715097e+01</td>\n",
       "      <td>2.740662e+00</td>\n",
       "      <td>1.341689e+01</td>\n",
       "      <td>1.110811e+01</td>\n",
       "      <td>8.356309e+00</td>\n",
       "      <td>5.897414e-01</td>\n",
       "      <td>3.310338e+01</td>\n",
       "      <td>1.219558e+01</td>\n",
       "      <td>1.039685e+01</td>\n",
       "      <td>4.932366e+01</td>\n",
       "      <td>1.503654e+00</td>\n",
       "      <td>9.901112e+04</td>\n",
       "    </tr>\n",
       "    <tr>\n",
       "      <th>std</th>\n",
       "      <td>1.408050e+04</td>\n",
       "      <td>3.822257e+01</td>\n",
       "      <td>6.281056e+00</td>\n",
       "      <td>5.086364e+02</td>\n",
       "      <td>9.880421e+05</td>\n",
       "      <td>5.941366e+04</td>\n",
       "      <td>1.759596e+01</td>\n",
       "      <td>2.088016e+00</td>\n",
       "      <td>4.252252e+00</td>\n",
       "      <td>8.786835e+00</td>\n",
       "      <td>7.158940e+00</td>\n",
       "      <td>4.918806e-01</td>\n",
       "      <td>2.531045e+01</td>\n",
       "      <td>8.788383e+01</td>\n",
       "      <td>7.138929e+00</td>\n",
       "      <td>1.854653e+01</td>\n",
       "      <td>1.119043e+00</td>\n",
       "      <td>4.254096e+04</td>\n",
       "    </tr>\n",
       "    <tr>\n",
       "      <th>min</th>\n",
       "      <td>1.000000e+00</td>\n",
       "      <td>1.000000e+00</td>\n",
       "      <td>1.000000e+00</td>\n",
       "      <td>1.000000e+00</td>\n",
       "      <td>5.000000e+00</td>\n",
       "      <td>1.000000e+00</td>\n",
       "      <td>1.000000e+00</td>\n",
       "      <td>0.000000e+00</td>\n",
       "      <td>0.000000e+00</td>\n",
       "      <td>0.000000e+00</td>\n",
       "      <td>1.000000e+00</td>\n",
       "      <td>0.000000e+00</td>\n",
       "      <td>1.000000e+00</td>\n",
       "      <td>1.000000e+00</td>\n",
       "      <td>0.000000e+00</td>\n",
       "      <td>1.800000e+01</td>\n",
       "      <td>0.000000e+00</td>\n",
       "      <td>2.591100e+04</td>\n",
       "    </tr>\n",
       "    <tr>\n",
       "      <th>25%</th>\n",
       "      <td>1.355400e+04</td>\n",
       "      <td>3.100000e+01</td>\n",
       "      <td>4.000000e+00</td>\n",
       "      <td>4.200000e+00</td>\n",
       "      <td>8.538620e+05</td>\n",
       "      <td>5.106900e+04</td>\n",
       "      <td>5.000000e+00</td>\n",
       "      <td>1.000000e+00</td>\n",
       "      <td>1.000000e+01</td>\n",
       "      <td>5.000000e+00</td>\n",
       "      <td>3.000000e+00</td>\n",
       "      <td>0.000000e+00</td>\n",
       "      <td>1.300000e+01</td>\n",
       "      <td>7.385246e+00</td>\n",
       "      <td>6.000000e+00</td>\n",
       "      <td>3.300000e+01</td>\n",
       "      <td>0.000000e+00</td>\n",
       "      <td>6.680200e+04</td>\n",
       "    </tr>\n",
       "    <tr>\n",
       "      <th>50%</th>\n",
       "      <td>2.530500e+04</td>\n",
       "      <td>8.300000e+01</td>\n",
       "      <td>9.000000e+00</td>\n",
       "      <td>7.400000e+00</td>\n",
       "      <td>1.709488e+06</td>\n",
       "      <td>1.021100e+05</td>\n",
       "      <td>1.100000e+01</td>\n",
       "      <td>3.000000e+00</td>\n",
       "      <td>1.300000e+01</td>\n",
       "      <td>8.000000e+00</td>\n",
       "      <td>6.000000e+00</td>\n",
       "      <td>1.000000e+00</td>\n",
       "      <td>2.600000e+01</td>\n",
       "      <td>7.830769e+00</td>\n",
       "      <td>8.000000e+00</td>\n",
       "      <td>4.900000e+01</td>\n",
       "      <td>2.000000e+00</td>\n",
       "      <td>9.610800e+04</td>\n",
       "    </tr>\n",
       "    <tr>\n",
       "      <th>75%</th>\n",
       "      <td>3.794700e+04</td>\n",
       "      <td>1.070000e+02</td>\n",
       "      <td>1.600000e+01</td>\n",
       "      <td>1.130000e+01</td>\n",
       "      <td>2.566695e+06</td>\n",
       "      <td>1.543370e+05</td>\n",
       "      <td>2.400000e+01</td>\n",
       "      <td>5.000000e+00</td>\n",
       "      <td>1.600000e+01</td>\n",
       "      <td>1.500000e+01</td>\n",
       "      <td>1.100000e+01</td>\n",
       "      <td>1.000000e+00</td>\n",
       "      <td>4.700000e+01</td>\n",
       "      <td>8.265185e+00</td>\n",
       "      <td>1.300000e+01</td>\n",
       "      <td>6.500000e+01</td>\n",
       "      <td>3.000000e+00</td>\n",
       "      <td>1.273850e+05</td>\n",
       "    </tr>\n",
       "    <tr>\n",
       "      <th>max</th>\n",
       "      <td>4.968800e+04</td>\n",
       "      <td>1.340000e+02</td>\n",
       "      <td>2.100000e+01</td>\n",
       "      <td>9.999900e+04</td>\n",
       "      <td>3.421081e+06</td>\n",
       "      <td>2.062040e+05</td>\n",
       "      <td>9.900000e+01</td>\n",
       "      <td>6.000000e+00</td>\n",
       "      <td>2.300000e+01</td>\n",
       "      <td>3.000000e+01</td>\n",
       "      <td>1.370000e+02</td>\n",
       "      <td>1.000000e+00</td>\n",
       "      <td>9.900000e+01</td>\n",
       "      <td>1.500694e+04</td>\n",
       "      <td>3.000000e+01</td>\n",
       "      <td>8.100000e+01</td>\n",
       "      <td>3.000000e+00</td>\n",
       "      <td>5.910890e+05</td>\n",
       "    </tr>\n",
       "  </tbody>\n",
       "</table>\n",
       "</div>"
      ],
      "text/plain": [
       "         product_id      aisle_id  department_id        prices      order_id  \\\n",
       "count  1.079188e+07  1.079188e+07   1.079188e+07  1.079188e+07  1.079188e+07   \n",
       "mean   2.560199e+04  7.121302e+01   9.910016e+00  1.219558e+01  1.710395e+06   \n",
       "std    1.408050e+04  3.822257e+01   6.281056e+00  5.086364e+02  9.880421e+05   \n",
       "min    1.000000e+00  1.000000e+00   1.000000e+00  1.000000e+00  5.000000e+00   \n",
       "25%    1.355400e+04  3.100000e+01   4.000000e+00  4.200000e+00  8.538620e+05   \n",
       "50%    2.530500e+04  8.300000e+01   9.000000e+00  7.400000e+00  1.709488e+06   \n",
       "75%    3.794700e+04  1.070000e+02   1.600000e+01  1.130000e+01  2.566695e+06   \n",
       "max    4.968800e+04  1.340000e+02   2.100000e+01  9.999900e+04  3.421081e+06   \n",
       "\n",
       "            user_id  order_number  orders_day_of_week  order_hour_of_day  \\\n",
       "count  1.079188e+07  1.079188e+07        1.079188e+07       1.079188e+07   \n",
       "mean   1.026769e+05  1.715097e+01        2.740662e+00       1.341689e+01   \n",
       "std    5.941366e+04  1.759596e+01        2.088016e+00       4.252252e+00   \n",
       "min    1.000000e+00  1.000000e+00        0.000000e+00       0.000000e+00   \n",
       "25%    5.106900e+04  5.000000e+00        1.000000e+00       1.000000e+01   \n",
       "50%    1.021100e+05  1.100000e+01        3.000000e+00       1.300000e+01   \n",
       "75%    1.543370e+05  2.400000e+01        5.000000e+00       1.600000e+01   \n",
       "max    2.062040e+05  9.900000e+01        6.000000e+00       2.300000e+01   \n",
       "\n",
       "       days_since_prior_order  add_to_cart_order     reordered     max_order  \\\n",
       "count            1.009982e+07       1.079188e+07  1.079188e+07  1.079188e+07   \n",
       "mean             1.110811e+01       8.356309e+00  5.897414e-01  3.310338e+01   \n",
       "std              8.786835e+00       7.158940e+00  4.918806e-01  2.531045e+01   \n",
       "min              0.000000e+00       1.000000e+00  0.000000e+00  1.000000e+00   \n",
       "25%              5.000000e+00       3.000000e+00  0.000000e+00  1.300000e+01   \n",
       "50%              8.000000e+00       6.000000e+00  1.000000e+00  2.600000e+01   \n",
       "75%              1.500000e+01       1.100000e+01  1.000000e+00  4.700000e+01   \n",
       "max              3.000000e+01       1.370000e+02  1.000000e+00  9.900000e+01   \n",
       "\n",
       "       mean_prices_of_products  median_days_prior_order           age  \\\n",
       "count             1.079188e+07             1.079188e+07  1.079188e+07   \n",
       "mean              1.219558e+01             1.039685e+01  4.932366e+01   \n",
       "std               8.788383e+01             7.138929e+00  1.854653e+01   \n",
       "min               1.000000e+00             0.000000e+00  1.800000e+01   \n",
       "25%               7.385246e+00             6.000000e+00  3.300000e+01   \n",
       "50%               7.830769e+00             8.000000e+00  4.900000e+01   \n",
       "75%               8.265185e+00             1.300000e+01  6.500000e+01   \n",
       "max               1.500694e+04             3.000000e+01  8.100000e+01   \n",
       "\n",
       "       n_dependants        income  \n",
       "count  1.079188e+07  1.079188e+07  \n",
       "mean   1.503654e+00  9.901112e+04  \n",
       "std    1.119043e+00  4.254096e+04  \n",
       "min    0.000000e+00  2.591100e+04  \n",
       "25%    0.000000e+00  6.680200e+04  \n",
       "50%    2.000000e+00  9.610800e+04  \n",
       "75%    3.000000e+00  1.273850e+05  \n",
       "max    3.000000e+00  5.910890e+05  "
      ]
     },
     "execution_count": 41,
     "metadata": {},
     "output_type": "execute_result"
    }
   ],
   "source": [
    "# south customers statistics\n",
    "south_customer.describe()"
   ]
  },
  {
   "cell_type": "code",
   "execution_count": 42,
   "id": "bd0824e7",
   "metadata": {},
   "outputs": [
    {
     "data": {
      "text/plain": [
       "customer_profile\n",
       "middle_class young adult    2873211\n",
       "middle_class senior         2573310\n",
       "middle_class middle age     2347811\n",
       "lower-class young adult      865363\n",
       "upper-class senior           735277\n",
       "upper-class middle age       619891\n",
       "lower_class senior           376996\n",
       "lower_class middle age       362857\n",
       "upper-class young adult       37169\n",
       "Name: count, dtype: int64"
      ]
     },
     "execution_count": 42,
     "metadata": {},
     "output_type": "execute_result"
    }
   ],
   "source": [
    "# User count by customer profile \n",
    "south_customer['customer_profile'].value_counts()"
   ]
  },
  {
   "cell_type": "code",
   "execution_count": 43,
   "id": "9dfd15ed",
   "metadata": {},
   "outputs": [
    {
     "data": {
      "text/plain": [
       "131613265.39999999"
      ]
     },
     "execution_count": 43,
     "metadata": {},
     "output_type": "execute_result"
    }
   ],
   "source": [
    "# Total spending of the South customers\n",
    "south_customer['prices'].sum()"
   ]
  },
  {
   "cell_type": "code",
   "execution_count": 44,
   "id": "dc284c70",
   "metadata": {},
   "outputs": [
    {
     "data": {
      "text/plain": [
       "product_name\n",
       "Banana                    158336\n",
       "Bag of Organic Bananas    125585\n",
       "Organic Strawberries       88379\n",
       "Organic Baby Spinach       81399\n",
       "Organic Hass Avocado       69833\n",
       "Name: count, dtype: int64"
      ]
     },
     "execution_count": 44,
     "metadata": {},
     "output_type": "execute_result"
    }
   ],
   "source": [
    "# Top 5 goods by order\n",
    "south_customer['product_name'].value_counts(dropna =  False ).sort_values(ascending = False).head(5)"
   ]
  },
  {
   "cell_type": "markdown",
   "id": "dc3fd7ed",
   "metadata": {},
   "source": [
    "#### West Region"
   ]
  },
  {
   "cell_type": "code",
   "execution_count": 45,
   "id": "a7e11119",
   "metadata": {},
   "outputs": [],
   "source": [
    "# Creat subset from \"df_all\" only containing data from the west region\n",
    "west_customer = df_all[df_all['region']== 'West']"
   ]
  },
  {
   "cell_type": "code",
   "execution_count": 46,
   "id": "5e451849",
   "metadata": {},
   "outputs": [
    {
     "data": {
      "text/html": [
       "<div>\n",
       "<style scoped>\n",
       "    .dataframe tbody tr th:only-of-type {\n",
       "        vertical-align: middle;\n",
       "    }\n",
       "\n",
       "    .dataframe tbody tr th {\n",
       "        vertical-align: top;\n",
       "    }\n",
       "\n",
       "    .dataframe thead th {\n",
       "        text-align: right;\n",
       "    }\n",
       "</style>\n",
       "<table border=\"1\" class=\"dataframe\">\n",
       "  <thead>\n",
       "    <tr style=\"text-align: right;\">\n",
       "      <th></th>\n",
       "      <th>product_id</th>\n",
       "      <th>aisle_id</th>\n",
       "      <th>department_id</th>\n",
       "      <th>prices</th>\n",
       "      <th>order_id</th>\n",
       "      <th>user_id</th>\n",
       "      <th>order_number</th>\n",
       "      <th>orders_day_of_week</th>\n",
       "      <th>order_hour_of_day</th>\n",
       "      <th>days_since_prior_order</th>\n",
       "      <th>add_to_cart_order</th>\n",
       "      <th>reordered</th>\n",
       "      <th>max_order</th>\n",
       "      <th>mean_prices_of_products</th>\n",
       "      <th>median_days_prior_order</th>\n",
       "      <th>age</th>\n",
       "      <th>n_dependants</th>\n",
       "      <th>income</th>\n",
       "    </tr>\n",
       "  </thead>\n",
       "  <tbody>\n",
       "    <tr>\n",
       "      <th>count</th>\n",
       "      <td>8.292913e+06</td>\n",
       "      <td>8.292913e+06</td>\n",
       "      <td>8.292913e+06</td>\n",
       "      <td>8.292913e+06</td>\n",
       "      <td>8.292913e+06</td>\n",
       "      <td>8.292913e+06</td>\n",
       "      <td>8.292913e+06</td>\n",
       "      <td>8.292913e+06</td>\n",
       "      <td>8.292913e+06</td>\n",
       "      <td>7.765088e+06</td>\n",
       "      <td>8.292913e+06</td>\n",
       "      <td>8.292913e+06</td>\n",
       "      <td>8.292913e+06</td>\n",
       "      <td>8.292913e+06</td>\n",
       "      <td>8.292913e+06</td>\n",
       "      <td>8.292913e+06</td>\n",
       "      <td>8.292913e+06</td>\n",
       "      <td>8.292913e+06</td>\n",
       "    </tr>\n",
       "    <tr>\n",
       "      <th>mean</th>\n",
       "      <td>2.558676e+04</td>\n",
       "      <td>7.114691e+01</td>\n",
       "      <td>9.925130e+00</td>\n",
       "      <td>1.131983e+01</td>\n",
       "      <td>1.710503e+06</td>\n",
       "      <td>1.033241e+05</td>\n",
       "      <td>1.727932e+01</td>\n",
       "      <td>2.739336e+00</td>\n",
       "      <td>1.341863e+01</td>\n",
       "      <td>1.104720e+01</td>\n",
       "      <td>8.350196e+00</td>\n",
       "      <td>5.908083e-01</td>\n",
       "      <td>3.330773e+01</td>\n",
       "      <td>1.131983e+01</td>\n",
       "      <td>1.036015e+01</td>\n",
       "      <td>4.957218e+01</td>\n",
       "      <td>1.506987e+00</td>\n",
       "      <td>9.929777e+04</td>\n",
       "    </tr>\n",
       "    <tr>\n",
       "      <th>std</th>\n",
       "      <td>1.408697e+04</td>\n",
       "      <td>3.822195e+01</td>\n",
       "      <td>6.282285e+00</td>\n",
       "      <td>4.288414e+02</td>\n",
       "      <td>9.870633e+05</td>\n",
       "      <td>5.943509e+04</td>\n",
       "      <td>1.763512e+01</td>\n",
       "      <td>2.092418e+00</td>\n",
       "      <td>4.229210e+00</td>\n",
       "      <td>8.748503e+00</td>\n",
       "      <td>7.094907e+00</td>\n",
       "      <td>4.916847e-01</td>\n",
       "      <td>2.524567e+01</td>\n",
       "      <td>6.692787e+01</td>\n",
       "      <td>7.127137e+00</td>\n",
       "      <td>1.844750e+01</td>\n",
       "      <td>1.121750e+00</td>\n",
       "      <td>4.262684e+04</td>\n",
       "    </tr>\n",
       "    <tr>\n",
       "      <th>min</th>\n",
       "      <td>1.000000e+00</td>\n",
       "      <td>1.000000e+00</td>\n",
       "      <td>1.000000e+00</td>\n",
       "      <td>1.000000e+00</td>\n",
       "      <td>2.000000e+00</td>\n",
       "      <td>2.000000e+00</td>\n",
       "      <td>1.000000e+00</td>\n",
       "      <td>0.000000e+00</td>\n",
       "      <td>0.000000e+00</td>\n",
       "      <td>0.000000e+00</td>\n",
       "      <td>1.000000e+00</td>\n",
       "      <td>0.000000e+00</td>\n",
       "      <td>3.000000e+00</td>\n",
       "      <td>1.000000e+00</td>\n",
       "      <td>0.000000e+00</td>\n",
       "      <td>1.800000e+01</td>\n",
       "      <td>0.000000e+00</td>\n",
       "      <td>2.593700e+04</td>\n",
       "    </tr>\n",
       "    <tr>\n",
       "      <th>25%</th>\n",
       "      <td>1.353500e+04</td>\n",
       "      <td>3.100000e+01</td>\n",
       "      <td>4.000000e+00</td>\n",
       "      <td>4.200000e+00</td>\n",
       "      <td>8.550280e+05</td>\n",
       "      <td>5.171700e+04</td>\n",
       "      <td>5.000000e+00</td>\n",
       "      <td>1.000000e+00</td>\n",
       "      <td>1.000000e+01</td>\n",
       "      <td>5.000000e+00</td>\n",
       "      <td>3.000000e+00</td>\n",
       "      <td>0.000000e+00</td>\n",
       "      <td>1.300000e+01</td>\n",
       "      <td>7.389324e+00</td>\n",
       "      <td>6.000000e+00</td>\n",
       "      <td>3.400000e+01</td>\n",
       "      <td>1.000000e+00</td>\n",
       "      <td>6.693900e+04</td>\n",
       "    </tr>\n",
       "    <tr>\n",
       "      <th>50%</th>\n",
       "      <td>2.529500e+04</td>\n",
       "      <td>8.300000e+01</td>\n",
       "      <td>9.000000e+00</td>\n",
       "      <td>7.400000e+00</td>\n",
       "      <td>1.712200e+06</td>\n",
       "      <td>1.035860e+05</td>\n",
       "      <td>1.100000e+01</td>\n",
       "      <td>3.000000e+00</td>\n",
       "      <td>1.300000e+01</td>\n",
       "      <td>8.000000e+00</td>\n",
       "      <td>6.000000e+00</td>\n",
       "      <td>1.000000e+00</td>\n",
       "      <td>2.700000e+01</td>\n",
       "      <td>7.821429e+00</td>\n",
       "      <td>8.000000e+00</td>\n",
       "      <td>5.000000e+01</td>\n",
       "      <td>2.000000e+00</td>\n",
       "      <td>9.665100e+04</td>\n",
       "    </tr>\n",
       "    <tr>\n",
       "      <th>75%</th>\n",
       "      <td>3.792300e+04</td>\n",
       "      <td>1.070000e+02</td>\n",
       "      <td>1.600000e+01</td>\n",
       "      <td>1.120000e+01</td>\n",
       "      <td>2.564961e+06</td>\n",
       "      <td>1.545020e+05</td>\n",
       "      <td>2.400000e+01</td>\n",
       "      <td>5.000000e+00</td>\n",
       "      <td>1.600000e+01</td>\n",
       "      <td>1.500000e+01</td>\n",
       "      <td>1.100000e+01</td>\n",
       "      <td>1.000000e+00</td>\n",
       "      <td>4.800000e+01</td>\n",
       "      <td>8.252392e+00</td>\n",
       "      <td>1.300000e+01</td>\n",
       "      <td>6.600000e+01</td>\n",
       "      <td>3.000000e+00</td>\n",
       "      <td>1.276970e+05</td>\n",
       "    </tr>\n",
       "    <tr>\n",
       "      <th>max</th>\n",
       "      <td>4.968800e+04</td>\n",
       "      <td>1.340000e+02</td>\n",
       "      <td>2.100000e+01</td>\n",
       "      <td>9.999900e+04</td>\n",
       "      <td>3.421083e+06</td>\n",
       "      <td>2.062060e+05</td>\n",
       "      <td>9.900000e+01</td>\n",
       "      <td>6.000000e+00</td>\n",
       "      <td>2.300000e+01</td>\n",
       "      <td>3.000000e+01</td>\n",
       "      <td>1.140000e+02</td>\n",
       "      <td>1.000000e+00</td>\n",
       "      <td>9.900000e+01</td>\n",
       "      <td>1.020999e+04</td>\n",
       "      <td>3.000000e+01</td>\n",
       "      <td>8.100000e+01</td>\n",
       "      <td>3.000000e+00</td>\n",
       "      <td>5.939010e+05</td>\n",
       "    </tr>\n",
       "  </tbody>\n",
       "</table>\n",
       "</div>"
      ],
      "text/plain": [
       "         product_id      aisle_id  department_id        prices      order_id  \\\n",
       "count  8.292913e+06  8.292913e+06   8.292913e+06  8.292913e+06  8.292913e+06   \n",
       "mean   2.558676e+04  7.114691e+01   9.925130e+00  1.131983e+01  1.710503e+06   \n",
       "std    1.408697e+04  3.822195e+01   6.282285e+00  4.288414e+02  9.870633e+05   \n",
       "min    1.000000e+00  1.000000e+00   1.000000e+00  1.000000e+00  2.000000e+00   \n",
       "25%    1.353500e+04  3.100000e+01   4.000000e+00  4.200000e+00  8.550280e+05   \n",
       "50%    2.529500e+04  8.300000e+01   9.000000e+00  7.400000e+00  1.712200e+06   \n",
       "75%    3.792300e+04  1.070000e+02   1.600000e+01  1.120000e+01  2.564961e+06   \n",
       "max    4.968800e+04  1.340000e+02   2.100000e+01  9.999900e+04  3.421083e+06   \n",
       "\n",
       "            user_id  order_number  orders_day_of_week  order_hour_of_day  \\\n",
       "count  8.292913e+06  8.292913e+06        8.292913e+06       8.292913e+06   \n",
       "mean   1.033241e+05  1.727932e+01        2.739336e+00       1.341863e+01   \n",
       "std    5.943509e+04  1.763512e+01        2.092418e+00       4.229210e+00   \n",
       "min    2.000000e+00  1.000000e+00        0.000000e+00       0.000000e+00   \n",
       "25%    5.171700e+04  5.000000e+00        1.000000e+00       1.000000e+01   \n",
       "50%    1.035860e+05  1.100000e+01        3.000000e+00       1.300000e+01   \n",
       "75%    1.545020e+05  2.400000e+01        5.000000e+00       1.600000e+01   \n",
       "max    2.062060e+05  9.900000e+01        6.000000e+00       2.300000e+01   \n",
       "\n",
       "       days_since_prior_order  add_to_cart_order     reordered     max_order  \\\n",
       "count            7.765088e+06       8.292913e+06  8.292913e+06  8.292913e+06   \n",
       "mean             1.104720e+01       8.350196e+00  5.908083e-01  3.330773e+01   \n",
       "std              8.748503e+00       7.094907e+00  4.916847e-01  2.524567e+01   \n",
       "min              0.000000e+00       1.000000e+00  0.000000e+00  3.000000e+00   \n",
       "25%              5.000000e+00       3.000000e+00  0.000000e+00  1.300000e+01   \n",
       "50%              8.000000e+00       6.000000e+00  1.000000e+00  2.700000e+01   \n",
       "75%              1.500000e+01       1.100000e+01  1.000000e+00  4.800000e+01   \n",
       "max              3.000000e+01       1.140000e+02  1.000000e+00  9.900000e+01   \n",
       "\n",
       "       mean_prices_of_products  median_days_prior_order           age  \\\n",
       "count             8.292913e+06             8.292913e+06  8.292913e+06   \n",
       "mean              1.131983e+01             1.036015e+01  4.957218e+01   \n",
       "std               6.692787e+01             7.127137e+00  1.844750e+01   \n",
       "min               1.000000e+00             0.000000e+00  1.800000e+01   \n",
       "25%               7.389324e+00             6.000000e+00  3.400000e+01   \n",
       "50%               7.821429e+00             8.000000e+00  5.000000e+01   \n",
       "75%               8.252392e+00             1.300000e+01  6.600000e+01   \n",
       "max               1.020999e+04             3.000000e+01  8.100000e+01   \n",
       "\n",
       "       n_dependants        income  \n",
       "count  8.292913e+06  8.292913e+06  \n",
       "mean   1.506987e+00  9.929777e+04  \n",
       "std    1.121750e+00  4.262684e+04  \n",
       "min    0.000000e+00  2.593700e+04  \n",
       "25%    1.000000e+00  6.693900e+04  \n",
       "50%    2.000000e+00  9.665100e+04  \n",
       "75%    3.000000e+00  1.276970e+05  \n",
       "max    3.000000e+00  5.939010e+05  "
      ]
     },
     "execution_count": 46,
     "metadata": {},
     "output_type": "execute_result"
    }
   ],
   "source": [
    "# west customers statistics\n",
    "west_customer.describe()"
   ]
  },
  {
   "cell_type": "code",
   "execution_count": 47,
   "id": "5476f0a8",
   "metadata": {},
   "outputs": [
    {
     "data": {
      "text/plain": [
       "customer_profile\n",
       "middle_class young adult    2156993\n",
       "middle_class senior         2004761\n",
       "middle_class middle age     1839762\n",
       "lower-class young adult      645893\n",
       "upper-class senior           554089\n",
       "upper-class middle age       510776\n",
       "lower_class senior           280181\n",
       "lower_class middle age       275378\n",
       "upper-class young adult       25080\n",
       "Name: count, dtype: int64"
      ]
     },
     "execution_count": 47,
     "metadata": {},
     "output_type": "execute_result"
    }
   ],
   "source": [
    "# User count by customer profile \n",
    "west_customer['customer_profile'].value_counts()"
   ]
  },
  {
   "cell_type": "code",
   "execution_count": 48,
   "id": "eb769a2a",
   "metadata": {},
   "outputs": [
    {
     "data": {
      "text/plain": [
       "93874398.69999997"
      ]
     },
     "execution_count": 48,
     "metadata": {},
     "output_type": "execute_result"
    }
   ],
   "source": [
    "# Total spending of the west customers\n",
    "west_customer['prices'].sum()"
   ]
  },
  {
   "cell_type": "code",
   "execution_count": 49,
   "id": "48c1260d",
   "metadata": {},
   "outputs": [
    {
     "data": {
      "text/plain": [
       "product_name\n",
       "Banana                    120557\n",
       "Bag of Organic Bananas     97710\n",
       "Organic Strawberries       67790\n",
       "Organic Baby Spinach       62128\n",
       "Organic Hass Avocado       56522\n",
       "Name: count, dtype: int64"
      ]
     },
     "execution_count": 49,
     "metadata": {},
     "output_type": "execute_result"
    }
   ],
   "source": [
    "# Top 5 goods by order\n",
    "west_customer['product_name'].value_counts(dropna =  False ).sort_values(ascending = False).head(5)"
   ]
  },
  {
   "cell_type": "markdown",
   "id": "0ba3574c",
   "metadata": {},
   "source": [
    "#### MidWest Region"
   ]
  },
  {
   "cell_type": "code",
   "execution_count": 50,
   "id": "4b4f6257",
   "metadata": {},
   "outputs": [],
   "source": [
    "# Creat subset from \"df_all\" only containing data from the Midwest region\n",
    "midwest_customer = df_all.loc[df_all['region'] == 'Midwest']"
   ]
  },
  {
   "cell_type": "code",
   "execution_count": 51,
   "id": "add5fe10",
   "metadata": {},
   "outputs": [
    {
     "data": {
      "text/html": [
       "<div>\n",
       "<style scoped>\n",
       "    .dataframe tbody tr th:only-of-type {\n",
       "        vertical-align: middle;\n",
       "    }\n",
       "\n",
       "    .dataframe tbody tr th {\n",
       "        vertical-align: top;\n",
       "    }\n",
       "\n",
       "    .dataframe thead th {\n",
       "        text-align: right;\n",
       "    }\n",
       "</style>\n",
       "<table border=\"1\" class=\"dataframe\">\n",
       "  <thead>\n",
       "    <tr style=\"text-align: right;\">\n",
       "      <th></th>\n",
       "      <th>product_id</th>\n",
       "      <th>aisle_id</th>\n",
       "      <th>department_id</th>\n",
       "      <th>prices</th>\n",
       "      <th>order_id</th>\n",
       "      <th>user_id</th>\n",
       "      <th>order_number</th>\n",
       "      <th>orders_day_of_week</th>\n",
       "      <th>order_hour_of_day</th>\n",
       "      <th>days_since_prior_order</th>\n",
       "      <th>add_to_cart_order</th>\n",
       "      <th>reordered</th>\n",
       "      <th>max_order</th>\n",
       "      <th>mean_prices_of_products</th>\n",
       "      <th>median_days_prior_order</th>\n",
       "      <th>age</th>\n",
       "      <th>n_dependants</th>\n",
       "      <th>income</th>\n",
       "    </tr>\n",
       "  </thead>\n",
       "  <tbody>\n",
       "    <tr>\n",
       "      <th>count</th>\n",
       "      <td>7.597325e+06</td>\n",
       "      <td>7.597325e+06</td>\n",
       "      <td>7.597325e+06</td>\n",
       "      <td>7.597325e+06</td>\n",
       "      <td>7.597325e+06</td>\n",
       "      <td>7.597325e+06</td>\n",
       "      <td>7.597325e+06</td>\n",
       "      <td>7.597325e+06</td>\n",
       "      <td>7.597325e+06</td>\n",
       "      <td>7.107586e+06</td>\n",
       "      <td>7.597325e+06</td>\n",
       "      <td>7.597325e+06</td>\n",
       "      <td>7.597325e+06</td>\n",
       "      <td>7.597325e+06</td>\n",
       "      <td>7.597325e+06</td>\n",
       "      <td>7.597325e+06</td>\n",
       "      <td>7.597325e+06</td>\n",
       "      <td>7.597325e+06</td>\n",
       "    </tr>\n",
       "    <tr>\n",
       "      <th>mean</th>\n",
       "      <td>2.561022e+04</td>\n",
       "      <td>7.119132e+01</td>\n",
       "      <td>9.914719e+00</td>\n",
       "      <td>1.271548e+01</td>\n",
       "      <td>1.712679e+06</td>\n",
       "      <td>1.030219e+05</td>\n",
       "      <td>1.692513e+01</td>\n",
       "      <td>2.738748e+00</td>\n",
       "      <td>1.344443e+01</td>\n",
       "      <td>1.118184e+01</td>\n",
       "      <td>8.343326e+00</td>\n",
       "      <td>5.869861e-01</td>\n",
       "      <td>3.258672e+01</td>\n",
       "      <td>1.271548e+01</td>\n",
       "      <td>1.045822e+01</td>\n",
       "      <td>4.944214e+01</td>\n",
       "      <td>1.491636e+00</td>\n",
       "      <td>1.001023e+05</td>\n",
       "    </tr>\n",
       "    <tr>\n",
       "      <th>std</th>\n",
       "      <td>1.408583e+04</td>\n",
       "      <td>3.819831e+01</td>\n",
       "      <td>6.280183e+00</td>\n",
       "      <td>5.644385e+02</td>\n",
       "      <td>9.864662e+05</td>\n",
       "      <td>5.935580e+04</td>\n",
       "      <td>1.731500e+01</td>\n",
       "      <td>2.091774e+00</td>\n",
       "      <td>4.249547e+00</td>\n",
       "      <td>8.804468e+00</td>\n",
       "      <td>7.122269e+00</td>\n",
       "      <td>4.923753e-01</td>\n",
       "      <td>2.481497e+01</td>\n",
       "      <td>1.010909e+02</td>\n",
       "      <td>7.129545e+00</td>\n",
       "      <td>1.841051e+01</td>\n",
       "      <td>1.115788e+00</td>\n",
       "      <td>4.452459e+04</td>\n",
       "    </tr>\n",
       "    <tr>\n",
       "      <th>min</th>\n",
       "      <td>1.000000e+00</td>\n",
       "      <td>1.000000e+00</td>\n",
       "      <td>1.000000e+00</td>\n",
       "      <td>1.000000e+00</td>\n",
       "      <td>6.000000e+00</td>\n",
       "      <td>1.400000e+01</td>\n",
       "      <td>1.000000e+00</td>\n",
       "      <td>0.000000e+00</td>\n",
       "      <td>0.000000e+00</td>\n",
       "      <td>0.000000e+00</td>\n",
       "      <td>1.000000e+00</td>\n",
       "      <td>0.000000e+00</td>\n",
       "      <td>2.000000e+00</td>\n",
       "      <td>1.000000e+00</td>\n",
       "      <td>0.000000e+00</td>\n",
       "      <td>1.800000e+01</td>\n",
       "      <td>0.000000e+00</td>\n",
       "      <td>2.590300e+04</td>\n",
       "    </tr>\n",
       "    <tr>\n",
       "      <th>25%</th>\n",
       "      <td>1.356500e+04</td>\n",
       "      <td>3.100000e+01</td>\n",
       "      <td>4.000000e+00</td>\n",
       "      <td>4.200000e+00</td>\n",
       "      <td>8.610130e+05</td>\n",
       "      <td>5.201100e+04</td>\n",
       "      <td>5.000000e+00</td>\n",
       "      <td>1.000000e+00</td>\n",
       "      <td>1.000000e+01</td>\n",
       "      <td>5.000000e+00</td>\n",
       "      <td>3.000000e+00</td>\n",
       "      <td>0.000000e+00</td>\n",
       "      <td>1.300000e+01</td>\n",
       "      <td>7.390435e+00</td>\n",
       "      <td>6.000000e+00</td>\n",
       "      <td>3.400000e+01</td>\n",
       "      <td>0.000000e+00</td>\n",
       "      <td>6.738000e+04</td>\n",
       "    </tr>\n",
       "    <tr>\n",
       "      <th>50%</th>\n",
       "      <td>2.534000e+04</td>\n",
       "      <td>8.300000e+01</td>\n",
       "      <td>9.000000e+00</td>\n",
       "      <td>7.400000e+00</td>\n",
       "      <td>1.712286e+06</td>\n",
       "      <td>1.027490e+05</td>\n",
       "      <td>1.100000e+01</td>\n",
       "      <td>3.000000e+00</td>\n",
       "      <td>1.300000e+01</td>\n",
       "      <td>8.000000e+00</td>\n",
       "      <td>6.000000e+00</td>\n",
       "      <td>1.000000e+00</td>\n",
       "      <td>2.600000e+01</td>\n",
       "      <td>7.827941e+00</td>\n",
       "      <td>8.000000e+00</td>\n",
       "      <td>4.900000e+01</td>\n",
       "      <td>1.000000e+00</td>\n",
       "      <td>9.725400e+04</td>\n",
       "    </tr>\n",
       "    <tr>\n",
       "      <th>75%</th>\n",
       "      <td>3.795100e+04</td>\n",
       "      <td>1.070000e+02</td>\n",
       "      <td>1.600000e+01</td>\n",
       "      <td>1.130000e+01</td>\n",
       "      <td>2.566551e+06</td>\n",
       "      <td>1.541360e+05</td>\n",
       "      <td>2.300000e+01</td>\n",
       "      <td>5.000000e+00</td>\n",
       "      <td>1.600000e+01</td>\n",
       "      <td>1.500000e+01</td>\n",
       "      <td>1.100000e+01</td>\n",
       "      <td>1.000000e+00</td>\n",
       "      <td>4.600000e+01</td>\n",
       "      <td>8.253731e+00</td>\n",
       "      <td>1.300000e+01</td>\n",
       "      <td>6.500000e+01</td>\n",
       "      <td>2.000000e+00</td>\n",
       "      <td>1.285810e+05</td>\n",
       "    </tr>\n",
       "    <tr>\n",
       "      <th>max</th>\n",
       "      <td>4.968800e+04</td>\n",
       "      <td>1.340000e+02</td>\n",
       "      <td>2.100000e+01</td>\n",
       "      <td>9.999900e+04</td>\n",
       "      <td>3.421075e+06</td>\n",
       "      <td>2.062090e+05</td>\n",
       "      <td>9.900000e+01</td>\n",
       "      <td>6.000000e+00</td>\n",
       "      <td>2.300000e+01</td>\n",
       "      <td>3.000000e+01</td>\n",
       "      <td>1.090000e+02</td>\n",
       "      <td>1.000000e+00</td>\n",
       "      <td>9.900000e+01</td>\n",
       "      <td>2.500542e+04</td>\n",
       "      <td>3.000000e+01</td>\n",
       "      <td>8.100000e+01</td>\n",
       "      <td>3.000000e+00</td>\n",
       "      <td>5.793970e+05</td>\n",
       "    </tr>\n",
       "  </tbody>\n",
       "</table>\n",
       "</div>"
      ],
      "text/plain": [
       "         product_id      aisle_id  department_id        prices      order_id  \\\n",
       "count  7.597325e+06  7.597325e+06   7.597325e+06  7.597325e+06  7.597325e+06   \n",
       "mean   2.561022e+04  7.119132e+01   9.914719e+00  1.271548e+01  1.712679e+06   \n",
       "std    1.408583e+04  3.819831e+01   6.280183e+00  5.644385e+02  9.864662e+05   \n",
       "min    1.000000e+00  1.000000e+00   1.000000e+00  1.000000e+00  6.000000e+00   \n",
       "25%    1.356500e+04  3.100000e+01   4.000000e+00  4.200000e+00  8.610130e+05   \n",
       "50%    2.534000e+04  8.300000e+01   9.000000e+00  7.400000e+00  1.712286e+06   \n",
       "75%    3.795100e+04  1.070000e+02   1.600000e+01  1.130000e+01  2.566551e+06   \n",
       "max    4.968800e+04  1.340000e+02   2.100000e+01  9.999900e+04  3.421075e+06   \n",
       "\n",
       "            user_id  order_number  orders_day_of_week  order_hour_of_day  \\\n",
       "count  7.597325e+06  7.597325e+06        7.597325e+06       7.597325e+06   \n",
       "mean   1.030219e+05  1.692513e+01        2.738748e+00       1.344443e+01   \n",
       "std    5.935580e+04  1.731500e+01        2.091774e+00       4.249547e+00   \n",
       "min    1.400000e+01  1.000000e+00        0.000000e+00       0.000000e+00   \n",
       "25%    5.201100e+04  5.000000e+00        1.000000e+00       1.000000e+01   \n",
       "50%    1.027490e+05  1.100000e+01        3.000000e+00       1.300000e+01   \n",
       "75%    1.541360e+05  2.300000e+01        5.000000e+00       1.600000e+01   \n",
       "max    2.062090e+05  9.900000e+01        6.000000e+00       2.300000e+01   \n",
       "\n",
       "       days_since_prior_order  add_to_cart_order     reordered     max_order  \\\n",
       "count            7.107586e+06       7.597325e+06  7.597325e+06  7.597325e+06   \n",
       "mean             1.118184e+01       8.343326e+00  5.869861e-01  3.258672e+01   \n",
       "std              8.804468e+00       7.122269e+00  4.923753e-01  2.481497e+01   \n",
       "min              0.000000e+00       1.000000e+00  0.000000e+00  2.000000e+00   \n",
       "25%              5.000000e+00       3.000000e+00  0.000000e+00  1.300000e+01   \n",
       "50%              8.000000e+00       6.000000e+00  1.000000e+00  2.600000e+01   \n",
       "75%              1.500000e+01       1.100000e+01  1.000000e+00  4.600000e+01   \n",
       "max              3.000000e+01       1.090000e+02  1.000000e+00  9.900000e+01   \n",
       "\n",
       "       mean_prices_of_products  median_days_prior_order           age  \\\n",
       "count             7.597325e+06             7.597325e+06  7.597325e+06   \n",
       "mean              1.271548e+01             1.045822e+01  4.944214e+01   \n",
       "std               1.010909e+02             7.129545e+00  1.841051e+01   \n",
       "min               1.000000e+00             0.000000e+00  1.800000e+01   \n",
       "25%               7.390435e+00             6.000000e+00  3.400000e+01   \n",
       "50%               7.827941e+00             8.000000e+00  4.900000e+01   \n",
       "75%               8.253731e+00             1.300000e+01  6.500000e+01   \n",
       "max               2.500542e+04             3.000000e+01  8.100000e+01   \n",
       "\n",
       "       n_dependants        income  \n",
       "count  7.597325e+06  7.597325e+06  \n",
       "mean   1.491636e+00  1.001023e+05  \n",
       "std    1.115788e+00  4.452459e+04  \n",
       "min    0.000000e+00  2.590300e+04  \n",
       "25%    0.000000e+00  6.738000e+04  \n",
       "50%    1.000000e+00  9.725400e+04  \n",
       "75%    2.000000e+00  1.285810e+05  \n",
       "max    3.000000e+00  5.793970e+05  "
      ]
     },
     "execution_count": 51,
     "metadata": {},
     "output_type": "execute_result"
    }
   ],
   "source": [
    "# midwest customers statistics\n",
    "midwest_customer.describe()"
   ]
  },
  {
   "cell_type": "code",
   "execution_count": 52,
   "id": "5f460405",
   "metadata": {},
   "outputs": [
    {
     "data": {
      "text/plain": [
       "customer_profile\n",
       "middle_class young adult    1980309\n",
       "middle_class senior         1810050\n",
       "middle_class middle age     1715242\n",
       "lower-class young adult      596363\n",
       "upper-class senior           508535\n",
       "upper-class middle age       465106\n",
       "lower_class senior           250953\n",
       "lower_class middle age       246310\n",
       "upper-class young adult       24457\n",
       "Name: count, dtype: int64"
      ]
     },
     "execution_count": 52,
     "metadata": {},
     "output_type": "execute_result"
    }
   ],
   "source": [
    "# Customer profile count\n",
    "midwest_customer['customer_profile'].value_counts()"
   ]
  },
  {
   "cell_type": "code",
   "execution_count": 53,
   "id": "b2f5273a",
   "metadata": {},
   "outputs": [
    {
     "data": {
      "text/plain": [
       "96603658.69999996"
      ]
     },
     "execution_count": 53,
     "metadata": {},
     "output_type": "execute_result"
    }
   ],
   "source": [
    "# Total spending of the midwest customers\n",
    "midwest_customer['prices'].sum()"
   ]
  },
  {
   "cell_type": "code",
   "execution_count": 54,
   "id": "9ce8cda3",
   "metadata": {},
   "outputs": [
    {
     "data": {
      "text/plain": [
       "product_name\n",
       "Banana                    110327\n",
       "Bag of Organic Bananas     89270\n",
       "Organic Strawberries       61611\n",
       "Organic Baby Spinach       56220\n",
       "Organic Hass Avocado       49434\n",
       "Name: count, dtype: int64"
      ]
     },
     "execution_count": 54,
     "metadata": {},
     "output_type": "execute_result"
    }
   ],
   "source": [
    "# Top 5goods by order\n",
    "midwest_customer['product_name'].value_counts(dropna =  False ).sort_values(ascending = False).head(5)"
   ]
  },
  {
   "cell_type": "markdown",
   "id": "0b16d517",
   "metadata": {},
   "source": [
    "#### NorthEast Region"
   ]
  },
  {
   "cell_type": "code",
   "execution_count": 55,
   "id": "a0e2676c",
   "metadata": {},
   "outputs": [],
   "source": [
    "# Creat subset from \"df_all\" only containing data from the NorthEast region\n",
    "northeast_customer = df_all.loc[df_all['region'] == 'Northeast']"
   ]
  },
  {
   "cell_type": "code",
   "execution_count": 56,
   "id": "bb8c57b4",
   "metadata": {},
   "outputs": [
    {
     "data": {
      "text/html": [
       "<div>\n",
       "<style scoped>\n",
       "    .dataframe tbody tr th:only-of-type {\n",
       "        vertical-align: middle;\n",
       "    }\n",
       "\n",
       "    .dataframe tbody tr th {\n",
       "        vertical-align: top;\n",
       "    }\n",
       "\n",
       "    .dataframe thead th {\n",
       "        text-align: right;\n",
       "    }\n",
       "</style>\n",
       "<table border=\"1\" class=\"dataframe\">\n",
       "  <thead>\n",
       "    <tr style=\"text-align: right;\">\n",
       "      <th></th>\n",
       "      <th>product_id</th>\n",
       "      <th>aisle_id</th>\n",
       "      <th>department_id</th>\n",
       "      <th>prices</th>\n",
       "      <th>order_id</th>\n",
       "      <th>user_id</th>\n",
       "      <th>order_number</th>\n",
       "      <th>orders_day_of_week</th>\n",
       "      <th>order_hour_of_day</th>\n",
       "      <th>days_since_prior_order</th>\n",
       "      <th>add_to_cart_order</th>\n",
       "      <th>reordered</th>\n",
       "      <th>max_order</th>\n",
       "      <th>mean_prices_of_products</th>\n",
       "      <th>median_days_prior_order</th>\n",
       "      <th>age</th>\n",
       "      <th>n_dependants</th>\n",
       "      <th>income</th>\n",
       "    </tr>\n",
       "  </thead>\n",
       "  <tbody>\n",
       "    <tr>\n",
       "      <th>count</th>\n",
       "      <td>5.722736e+06</td>\n",
       "      <td>5.722736e+06</td>\n",
       "      <td>5.722736e+06</td>\n",
       "      <td>5.722736e+06</td>\n",
       "      <td>5.722736e+06</td>\n",
       "      <td>5.722736e+06</td>\n",
       "      <td>5.722736e+06</td>\n",
       "      <td>5.722736e+06</td>\n",
       "      <td>5.722736e+06</td>\n",
       "      <td>5.356272e+06</td>\n",
       "      <td>5.722736e+06</td>\n",
       "      <td>5.722736e+06</td>\n",
       "      <td>5.722736e+06</td>\n",
       "      <td>5.722736e+06</td>\n",
       "      <td>5.722736e+06</td>\n",
       "      <td>5.722736e+06</td>\n",
       "      <td>5.722736e+06</td>\n",
       "      <td>5.722736e+06</td>\n",
       "    </tr>\n",
       "    <tr>\n",
       "      <th>mean</th>\n",
       "      <td>2.559427e+04</td>\n",
       "      <td>7.124191e+01</td>\n",
       "      <td>9.937227e+00</td>\n",
       "      <td>1.155500e+01</td>\n",
       "      <td>1.709192e+06</td>\n",
       "      <td>1.027551e+05</td>\n",
       "      <td>1.721573e+01</td>\n",
       "      <td>2.734961e+00</td>\n",
       "      <td>1.342459e+01</td>\n",
       "      <td>1.107577e+01</td>\n",
       "      <td>8.361099e+00</td>\n",
       "      <td>5.909806e-01</td>\n",
       "      <td>3.320316e+01</td>\n",
       "      <td>1.155500e+01</td>\n",
       "      <td>1.037370e+01</td>\n",
       "      <td>4.960811e+01</td>\n",
       "      <td>1.504822e+00</td>\n",
       "      <td>9.956287e+04</td>\n",
       "    </tr>\n",
       "    <tr>\n",
       "      <th>std</th>\n",
       "      <td>1.408384e+04</td>\n",
       "      <td>3.819226e+01</td>\n",
       "      <td>6.282819e+00</td>\n",
       "      <td>4.623826e+02</td>\n",
       "      <td>9.873391e+05</td>\n",
       "      <td>5.975226e+04</td>\n",
       "      <td>1.756365e+01</td>\n",
       "      <td>2.088306e+00</td>\n",
       "      <td>4.255834e+00</td>\n",
       "      <td>8.774100e+00</td>\n",
       "      <td>7.119696e+00</td>\n",
       "      <td>4.916529e-01</td>\n",
       "      <td>2.517092e+01</td>\n",
       "      <td>6.791330e+01</td>\n",
       "      <td>7.127311e+00</td>\n",
       "      <td>1.852297e+01</td>\n",
       "      <td>1.118338e+00</td>\n",
       "      <td>4.265135e+04</td>\n",
       "    </tr>\n",
       "    <tr>\n",
       "      <th>min</th>\n",
       "      <td>1.000000e+00</td>\n",
       "      <td>1.000000e+00</td>\n",
       "      <td>1.000000e+00</td>\n",
       "      <td>1.000000e+00</td>\n",
       "      <td>4.000000e+00</td>\n",
       "      <td>7.000000e+00</td>\n",
       "      <td>1.000000e+00</td>\n",
       "      <td>0.000000e+00</td>\n",
       "      <td>0.000000e+00</td>\n",
       "      <td>0.000000e+00</td>\n",
       "      <td>1.000000e+00</td>\n",
       "      <td>0.000000e+00</td>\n",
       "      <td>2.000000e+00</td>\n",
       "      <td>1.100000e+00</td>\n",
       "      <td>0.000000e+00</td>\n",
       "      <td>1.800000e+01</td>\n",
       "      <td>0.000000e+00</td>\n",
       "      <td>2.607200e+04</td>\n",
       "    </tr>\n",
       "    <tr>\n",
       "      <th>25%</th>\n",
       "      <td>1.355400e+04</td>\n",
       "      <td>3.100000e+01</td>\n",
       "      <td>4.000000e+00</td>\n",
       "      <td>4.200000e+00</td>\n",
       "      <td>8.546230e+05</td>\n",
       "      <td>5.093200e+04</td>\n",
       "      <td>5.000000e+00</td>\n",
       "      <td>1.000000e+00</td>\n",
       "      <td>1.000000e+01</td>\n",
       "      <td>5.000000e+00</td>\n",
       "      <td>3.000000e+00</td>\n",
       "      <td>0.000000e+00</td>\n",
       "      <td>1.300000e+01</td>\n",
       "      <td>7.384178e+00</td>\n",
       "      <td>6.000000e+00</td>\n",
       "      <td>3.300000e+01</td>\n",
       "      <td>1.000000e+00</td>\n",
       "      <td>6.705700e+04</td>\n",
       "    </tr>\n",
       "    <tr>\n",
       "      <th>50%</th>\n",
       "      <td>2.525600e+04</td>\n",
       "      <td>8.300000e+01</td>\n",
       "      <td>9.000000e+00</td>\n",
       "      <td>7.400000e+00</td>\n",
       "      <td>1.710925e+06</td>\n",
       "      <td>1.019220e+05</td>\n",
       "      <td>1.100000e+01</td>\n",
       "      <td>3.000000e+00</td>\n",
       "      <td>1.300000e+01</td>\n",
       "      <td>8.000000e+00</td>\n",
       "      <td>6.000000e+00</td>\n",
       "      <td>1.000000e+00</td>\n",
       "      <td>2.600000e+01</td>\n",
       "      <td>7.814725e+00</td>\n",
       "      <td>8.000000e+00</td>\n",
       "      <td>5.000000e+01</td>\n",
       "      <td>2.000000e+00</td>\n",
       "      <td>9.678900e+04</td>\n",
       "    </tr>\n",
       "    <tr>\n",
       "      <th>75%</th>\n",
       "      <td>3.798700e+04</td>\n",
       "      <td>1.070000e+02</td>\n",
       "      <td>1.600000e+01</td>\n",
       "      <td>1.120000e+01</td>\n",
       "      <td>2.562467e+06</td>\n",
       "      <td>1.547290e+05</td>\n",
       "      <td>2.400000e+01</td>\n",
       "      <td>5.000000e+00</td>\n",
       "      <td>1.600000e+01</td>\n",
       "      <td>1.500000e+01</td>\n",
       "      <td>1.100000e+01</td>\n",
       "      <td>1.000000e+00</td>\n",
       "      <td>4.700000e+01</td>\n",
       "      <td>8.238650e+00</td>\n",
       "      <td>1.300000e+01</td>\n",
       "      <td>6.600000e+01</td>\n",
       "      <td>3.000000e+00</td>\n",
       "      <td>1.281670e+05</td>\n",
       "    </tr>\n",
       "    <tr>\n",
       "      <th>max</th>\n",
       "      <td>4.968800e+04</td>\n",
       "      <td>1.340000e+02</td>\n",
       "      <td>2.100000e+01</td>\n",
       "      <td>9.999900e+04</td>\n",
       "      <td>3.421074e+06</td>\n",
       "      <td>2.062000e+05</td>\n",
       "      <td>9.900000e+01</td>\n",
       "      <td>6.000000e+00</td>\n",
       "      <td>2.300000e+01</td>\n",
       "      <td>3.000000e+01</td>\n",
       "      <td>1.450000e+02</td>\n",
       "      <td>1.000000e+00</td>\n",
       "      <td>9.900000e+01</td>\n",
       "      <td>7.414485e+03</td>\n",
       "      <td>3.000000e+01</td>\n",
       "      <td>8.100000e+01</td>\n",
       "      <td>3.000000e+00</td>\n",
       "      <td>5.840970e+05</td>\n",
       "    </tr>\n",
       "  </tbody>\n",
       "</table>\n",
       "</div>"
      ],
      "text/plain": [
       "         product_id      aisle_id  department_id        prices      order_id  \\\n",
       "count  5.722736e+06  5.722736e+06   5.722736e+06  5.722736e+06  5.722736e+06   \n",
       "mean   2.559427e+04  7.124191e+01   9.937227e+00  1.155500e+01  1.709192e+06   \n",
       "std    1.408384e+04  3.819226e+01   6.282819e+00  4.623826e+02  9.873391e+05   \n",
       "min    1.000000e+00  1.000000e+00   1.000000e+00  1.000000e+00  4.000000e+00   \n",
       "25%    1.355400e+04  3.100000e+01   4.000000e+00  4.200000e+00  8.546230e+05   \n",
       "50%    2.525600e+04  8.300000e+01   9.000000e+00  7.400000e+00  1.710925e+06   \n",
       "75%    3.798700e+04  1.070000e+02   1.600000e+01  1.120000e+01  2.562467e+06   \n",
       "max    4.968800e+04  1.340000e+02   2.100000e+01  9.999900e+04  3.421074e+06   \n",
       "\n",
       "            user_id  order_number  orders_day_of_week  order_hour_of_day  \\\n",
       "count  5.722736e+06  5.722736e+06        5.722736e+06       5.722736e+06   \n",
       "mean   1.027551e+05  1.721573e+01        2.734961e+00       1.342459e+01   \n",
       "std    5.975226e+04  1.756365e+01        2.088306e+00       4.255834e+00   \n",
       "min    7.000000e+00  1.000000e+00        0.000000e+00       0.000000e+00   \n",
       "25%    5.093200e+04  5.000000e+00        1.000000e+00       1.000000e+01   \n",
       "50%    1.019220e+05  1.100000e+01        3.000000e+00       1.300000e+01   \n",
       "75%    1.547290e+05  2.400000e+01        5.000000e+00       1.600000e+01   \n",
       "max    2.062000e+05  9.900000e+01        6.000000e+00       2.300000e+01   \n",
       "\n",
       "       days_since_prior_order  add_to_cart_order     reordered     max_order  \\\n",
       "count            5.356272e+06       5.722736e+06  5.722736e+06  5.722736e+06   \n",
       "mean             1.107577e+01       8.361099e+00  5.909806e-01  3.320316e+01   \n",
       "std              8.774100e+00       7.119696e+00  4.916529e-01  2.517092e+01   \n",
       "min              0.000000e+00       1.000000e+00  0.000000e+00  2.000000e+00   \n",
       "25%              5.000000e+00       3.000000e+00  0.000000e+00  1.300000e+01   \n",
       "50%              8.000000e+00       6.000000e+00  1.000000e+00  2.600000e+01   \n",
       "75%              1.500000e+01       1.100000e+01  1.000000e+00  4.700000e+01   \n",
       "max              3.000000e+01       1.450000e+02  1.000000e+00  9.900000e+01   \n",
       "\n",
       "       mean_prices_of_products  median_days_prior_order           age  \\\n",
       "count             5.722736e+06             5.722736e+06  5.722736e+06   \n",
       "mean              1.155500e+01             1.037370e+01  4.960811e+01   \n",
       "std               6.791330e+01             7.127311e+00  1.852297e+01   \n",
       "min               1.100000e+00             0.000000e+00  1.800000e+01   \n",
       "25%               7.384178e+00             6.000000e+00  3.300000e+01   \n",
       "50%               7.814725e+00             8.000000e+00  5.000000e+01   \n",
       "75%               8.238650e+00             1.300000e+01  6.600000e+01   \n",
       "max               7.414485e+03             3.000000e+01  8.100000e+01   \n",
       "\n",
       "       n_dependants        income  \n",
       "count  5.722736e+06  5.722736e+06  \n",
       "mean   1.504822e+00  9.956287e+04  \n",
       "std    1.118338e+00  4.265135e+04  \n",
       "min    0.000000e+00  2.607200e+04  \n",
       "25%    1.000000e+00  6.705700e+04  \n",
       "50%    2.000000e+00  9.678900e+04  \n",
       "75%    3.000000e+00  1.281670e+05  \n",
       "max    3.000000e+00  5.840970e+05  "
      ]
     },
     "execution_count": 56,
     "metadata": {},
     "output_type": "execute_result"
    }
   ],
   "source": [
    "# north_east customers statistics\n",
    "northeast_customer.describe()"
   ]
  },
  {
   "cell_type": "code",
   "execution_count": 57,
   "id": "740507f7",
   "metadata": {},
   "outputs": [
    {
     "data": {
      "text/plain": [
       "customer_profile\n",
       "middle_class young adult    1486524\n",
       "middle_class senior         1396038\n",
       "middle_class middle age     1263012\n",
       "lower-class young adult      455339\n",
       "upper-class senior           382426\n",
       "upper-class middle age       337554\n",
       "lower_class senior           194639\n",
       "lower_class middle age       189713\n",
       "upper-class young adult       17491\n",
       "Name: count, dtype: int64"
      ]
     },
     "execution_count": 57,
     "metadata": {},
     "output_type": "execute_result"
    }
   ],
   "source": [
    "# Customer profile count\n",
    "northeast_customer['customer_profile'].value_counts()"
   ]
  },
  {
   "cell_type": "code",
   "execution_count": 58,
   "id": "0659cb9f",
   "metadata": {},
   "outputs": [
    {
     "data": {
      "text/plain": [
       "66126199.799999975"
      ]
     },
     "execution_count": 58,
     "metadata": {},
     "output_type": "execute_result"
    }
   ],
   "source": [
    "# Total spending of the nosrtheast customers\n",
    "northeast_customer['prices'].sum()"
   ]
  },
  {
   "cell_type": "code",
   "execution_count": 59,
   "id": "31592964",
   "metadata": {},
   "outputs": [
    {
     "data": {
      "text/plain": [
       "product_name\n",
       "Banana                    83345\n",
       "Bag of Organic Bananas    66885\n",
       "Organic Strawberries      46903\n",
       "Organic Baby Spinach      42174\n",
       "Organic Hass Avocado      37795\n",
       "Name: count, dtype: int64"
      ]
     },
     "execution_count": 59,
     "metadata": {},
     "output_type": "execute_result"
    }
   ],
   "source": [
    "# Top 5 goods by order\n",
    "northeast_customer['product_name'].value_counts(dropna =  False ).sort_values(ascending = False).head(5)"
   ]
  },
  {
   "cell_type": "markdown",
   "id": "b46774e6",
   "metadata": {},
   "source": [
    "## 9. Visualizations "
   ]
  },
  {
   "cell_type": "code",
   "execution_count": 60,
   "id": "0c8ad8ca",
   "metadata": {},
   "outputs": [
    {
     "data": {
      "text/plain": [
       "Index(['product_id', 'product_name', 'aisle_id', 'department_id', 'prices',\n",
       "       'order_id', 'user_id', 'order_number', 'orders_day_of_week',\n",
       "       'order_hour_of_day', 'days_since_prior_order', 'add_to_cart_order',\n",
       "       'reordered', 'price_range_loc', 'busiest_day', 'busiest_days',\n",
       "       'busiest_period_of_day', 'max_order', 'loyalty_flag',\n",
       "       'mean_prices_of_products', 'spending_flag', 'median_days_prior_order',\n",
       "       'frequency_flag', 'first_name', 'surname', 'gender', 'state', 'age',\n",
       "       'date_joined', 'n_dependants', 'fam_status', 'income', '_merge',\n",
       "       'region', 'customer_activity_flag', 'customer_profile'],\n",
       "      dtype='object')"
      ]
     },
     "execution_count": 60,
     "metadata": {},
     "output_type": "execute_result"
    }
   ],
   "source": [
    "df_all.columns"
   ]
  },
  {
   "cell_type": "code",
   "execution_count": 90,
   "id": "b93cfece",
   "metadata": {},
   "outputs": [
    {
     "data": {
      "image/png": "[encoded data removed]",
      "text/plain": [
       "<Figure size 640x480 with 1 Axes>"
      ]
     },
     "metadata": {},
     "output_type": "display_data"
    }
   ],
   "source": [
    "# Hist chart of busiest day of the week for order\n",
    "df_all['orders_day_of_week'].value_counts().plot.bar()\n",
    "plt.title('Busiest day of the week for orders')\n",
    "plt.xlabel('Day of the Week')\n",
    "plt.ylabel('Frequency')\n",
    "#Save the plot as a PNG file\n",
    "plt.savefig(os.path.join(path, '04 Analysis','Visualizations', 'busiest day of the week.png'))"
   ]
  },
  {
   "cell_type": "code",
   "execution_count": 91,
   "id": "a2bae412",
   "metadata": {},
   "outputs": [
    {
     "data": {
      "image/png": "[encoded data removed]",
      "text/plain": [
       "<Figure size 640x480 with 1 Axes>"
      ]
     },
     "metadata": {},
     "output_type": "display_data"
    }
   ],
   "source": [
    "# Viz of the busiest hour of day for order\n",
    "busiest_hod = df_all['order_hour_of_day'].plot.hist(bins = 24)\n",
    "\n",
    "plt.xlabel('Time of Day')  \n",
    "plt.title('Busiest Hour of the Day')\n",
    "#Save the plot as a PNG file\n",
    "plt.savefig(os.path.join(path, '04 Analysis','Visualizations', 'busiest hour of day.png'))"
   ]
  },
  {
   "cell_type": "code",
   "execution_count": 63,
   "id": "647e32bc",
   "metadata": {},
   "outputs": [],
   "source": [
    "# Create a list holding True/False values to the test np.randon.rant() <=0.7\n",
    "np.random.seed(4)\n",
    "dev = np.random.rand(len(df_all)) <= 0.7\n",
    "\n",
    "# Store 70% of the sample in the data frame big\n",
    "big = df_all[dev]\n",
    "# Store 30% of the sample in the data frame small\n",
    "small = df_all[~dev] "
   ]
  },
  {
   "cell_type": "code",
   "execution_count": 92,
   "id": "ca2f112f",
   "metadata": {},
   "outputs": [
    {
     "name": "stderr",
     "output_type": "stream",
     "text": [
      "C:\\Users\\gra_j\\anaconda3\\Lib\\site-packages\\seaborn\\_oldcore.py:1119: FutureWarning: use_inf_as_na option is deprecated and will be removed in a future version. Convert inf values to NaN before operating instead.\n",
      "  with pd.option_context('mode.use_inf_as_na', True):\n",
      "C:\\Users\\gra_j\\anaconda3\\Lib\\site-packages\\seaborn\\_oldcore.py:1119: FutureWarning: use_inf_as_na option is deprecated and will be removed in a future version. Convert inf values to NaN before operating instead.\n",
      "  with pd.option_context('mode.use_inf_as_na', True):\n"
     ]
    },
    {
     "data": {
      "image/png": "[encoded data removed]",
      "text/plain": [
       "<Figure size 640x480 with 1 Axes>"
      ]
     },
     "metadata": {},
     "output_type": "display_data"
    }
   ],
   "source": [
    "# create a line chart ploting the days of the week and the price \n",
    "line = sns.lineplot(data = small, x = 'orders_day_of_week',y = 'prices')\n",
    "plt.xlabel('Days of the Week')\n",
    "plt.ylabel('prices')\n",
    "plt.title('Trend of product price with order day')\n",
    "#Save the plot as a PNG file\n",
    "plt.savefig(os.path.join(path, '04 Analysis','Visualizations', 'days when people spend the most .png'))"
   ]
  },
  {
   "cell_type": "code",
   "execution_count": 93,
   "id": "b9ab0ec6",
   "metadata": {},
   "outputs": [
    {
     "name": "stderr",
     "output_type": "stream",
     "text": [
      "C:\\Users\\gra_j\\anaconda3\\Lib\\site-packages\\seaborn\\_oldcore.py:1119: FutureWarning: use_inf_as_na option is deprecated and will be removed in a future version. Convert inf values to NaN before operating instead.\n",
      "  with pd.option_context('mode.use_inf_as_na', True):\n",
      "C:\\Users\\gra_j\\anaconda3\\Lib\\site-packages\\seaborn\\_oldcore.py:1119: FutureWarning: use_inf_as_na option is deprecated and will be removed in a future version. Convert inf values to NaN before operating instead.\n",
      "  with pd.option_context('mode.use_inf_as_na', True):\n"
     ]
    },
    {
     "data": {
      "image/png": "[encoded data removed]",
      "text/plain": [
       "<Figure size 640x480 with 1 Axes>"
      ]
     },
     "metadata": {},
     "output_type": "display_data"
    }
   ],
   "source": [
    "# create a line chart ploting the time of the day and the price \n",
    "line = sns.lineplot(data = small, x = 'order_hour_of_day',y = 'prices')\n",
    "plt.xlabel('Time')\n",
    "plt.ylabel('Prices')\n",
    "plt.title('Trend of product price with order time')\n",
    "#Save the plot as a PNG file\n",
    "plt.savefig(os.path.join(path, '04 Analysis','Visualizations', 'hours when people spent the most.png'))"
   ]
  },
  {
   "cell_type": "code",
   "execution_count": 66,
   "id": "7bc152e2",
   "metadata": {},
   "outputs": [
    {
     "data": {
      "text/plain": [
       "price_range_loc\n",
       "Mid-range product     21860860\n",
       "Low-range product     10126321\n",
       "High-range product      417678\n",
       "Name: count, dtype: int64"
      ]
     },
     "execution_count": 66,
     "metadata": {},
     "output_type": "execute_result"
    }
   ],
   "source": [
    "df_all['price_range_loc'].value_counts(dropna=False)"
   ]
  },
  {
   "cell_type": "code",
   "execution_count": 95,
   "id": "8542ed93",
   "metadata": {},
   "outputs": [
    {
     "data": {
      "image/png": "[encoded data removed]",
      "text/plain": [
       "<Figure size 640x480 with 1 Axes>"
      ]
     },
     "metadata": {},
     "output_type": "display_data"
    }
   ],
   "source": [
    "# Bar chart of price range\n",
    "bar_price_range = (df_all['price_range_loc'].value_counts(normalize=True)*100).plot.bar(color = ['darkblue', 'lightskyblue', 'lightblue'])\n",
    "plt.xlabel('Income Category')\n",
    "plt.ylabel('Percent')\n",
    "plt.title('Customer Order Price Range')\n",
    "plt.xticks(rotation=0)\n",
    "# Save the plot as a PNG file\n",
    "plt.savefig(os.path.join(path, '04 Analysis','Visualizations', 'bar_customer order price range.png'))"
   ]
  },
  {
   "cell_type": "code",
   "execution_count": 104,
   "id": "2d85b3a1",
   "metadata": {},
   "outputs": [
    {
     "data": {
      "image/png": "[encoded data removed]",
      "text/plain": [
       "<Figure size 640x480 with 1 Axes>"
      ]
     },
     "metadata": {},
     "output_type": "display_data"
    }
   ],
   "source": [
    "#Finding most popular products\n",
    "favor_product=df_all['product_name'].value_counts(dropna=False).head(5).sort_values(ascending= True).plot.barh(color = ['gainsboro', 'silver', 'grey', 'dimgrey', 'black'  ])\n",
    "\n",
    "plt.title('Top 5 Products for Ordering') \n",
    "plt.xlabel('Order Count')  \n",
    "plt.ylabel(' ')  \n",
    "#Save the plot as a PNG file\n",
    "plt.savefig(os.path.join(path, '04 Analysis','Visualizations', 'Top 5 favorite products.png'))"
   ]
  },
  {
   "cell_type": "code",
   "execution_count": null,
   "id": "4ba87ba0",
   "metadata": {},
   "outputs": [],
   "source": [
    "# Finding most popular department\n",
    "favor_dept=df_all['department_id'].value_counts(dropna=False).head(5)"
   ]
  },
  {
   "cell_type": "code",
   "execution_count": 105,
   "id": "cbdbac10",
   "metadata": {},
   "outputs": [
    {
     "data": {
      "image/png": "[encoded data removed]",
      "text/plain": [
       "<Figure size 640x480 with 1 Axes>"
      ]
     },
     "metadata": {},
     "output_type": "display_data"
    }
   ],
   "source": [
    "#plot the top 5  most popular department\n",
    "favor_dept=df_all['department_id'].value_counts(dropna=False).head(5).sort_values(ascending= True).plot.barh(color = ['gainsboro', 'silver', 'grey', 'dimgrey', 'black'  ])\n",
    "\n",
    "plt.title('Top 5 Most Popular Departments') \n",
    "plt.xlabel('Order Count') \n",
    "plt.ylabel('Department ID')  \n",
    "#Save the plot as a PNG file\n",
    "plt.savefig(os.path.join(path, '04 Analysis','Visualizations', 'Top 5 favorite department.png'))"
   ]
  },
  {
   "cell_type": "code",
   "execution_count": 109,
   "id": "5cc59dab",
   "metadata": {},
   "outputs": [
    {
     "data": {
      "image/png": "[encoded data removed]",
      "text/plain": [
       "<Figure size 640x480 with 1 Axes>"
      ]
     },
     "metadata": {},
     "output_type": "display_data"
    }
   ],
   "source": [
    "# Create bar chart for brand loyalty \n",
    "(df_all['loyalty_flag'].value_counts(normalize=True)*100).plot.bar(color=[ 'darkblue', 'blue', 'lightblue' ])\n",
    "plt.title('Brand Loyalty Users') \n",
    "plt.ylabel('Percent')  \n",
    "plt.xlabel(' ') \n",
    "plt.xticks(rotation=0)\n",
    "# save the plot as a PNG file\n",
    "plt.savefig(os.path.join(path, '04 Analysis','Visualizations', 'loyalty users.png')) # Save figure"
   ]
  },
  {
   "cell_type": "code",
   "execution_count": 70,
   "id": "9f5ec380",
   "metadata": {},
   "outputs": [
    {
     "data": {
      "image/png": "[encoded data removed]",
      "text/plain": [
       "<Figure size 640x480 with 1 Axes>"
      ]
     },
     "metadata": {},
     "output_type": "display_data"
    }
   ],
   "source": [
    "# Group spending flag by loyalty flag\n",
    "grouped_counts = df_all.groupby(['loyalty_flag', 'spending_flag']).size().unstack()\n",
    "\n",
    "# Plot the bar plot with color coding\n",
    "grouped_counts.plot(kind='bar', color=['red','green'])\n",
    "# Add labels and title\n",
    "plt.xlabel(' ')\n",
    "plt.ylabel('User Count by million')\n",
    "plt.title('Spending Habbits by Brand Loyalty')\n",
    "plt.xticks(rotation=0)\n",
    "\n",
    "plt.savefig(os.path.join(path, '04 Analysis','Visualizations', 'Spending Habbits by Brand Loyalty.png')) # Save figure"
   ]
  },
  {
   "cell_type": "code",
   "execution_count": 71,
   "id": "3da28eb1",
   "metadata": {},
   "outputs": [
    {
     "data": {
      "image/png": "[encoded data removed]",
      "text/plain": [
       "<Figure size 640x480 with 1 Axes>"
      ]
     },
     "metadata": {},
     "output_type": "display_data"
    }
   ],
   "source": [
    "# Group loyalty flag by region\n",
    "grouped_counts = df_all.groupby(['region', 'loyalty_flag']).size().unstack()\n",
    "\n",
    "# Plot the bar plot with color coding\n",
    "grouped_counts.plot.bar(color=[ 'blue', 'lightblue', 'darkblue' ])\n",
    "\n",
    "# Add labels and title\n",
    "plt.legend(title=None)\n",
    "plt.xlabel(' ')\n",
    "plt.ylabel('User Count by million')\n",
    "plt.title('Brand Loyalty by Region')\n",
    "plt.xticks(rotation=0)\n",
    "\n",
    "plt.savefig(os.path.join(path, '04 Analysis','Visualizations', 'Brand Loyalty by Region.png')) # Save figure"
   ]
  },
  {
   "cell_type": "code",
   "execution_count": 110,
   "id": "d4f4df2d",
   "metadata": {},
   "outputs": [
    {
     "data": {
      "image/png": "[encoded data removed]",
      "text/plain": [
       "<Figure size 640x480 with 1 Axes>"
      ]
     },
     "metadata": {},
     "output_type": "display_data"
    }
   ],
   "source": [
    "# Plot the bar chart \n",
    "df_all.groupby(['region', 'spending_flag']).size().unstack().plot.bar(color = ['lightsteelblue', 'slategrey'])\n",
    "\n",
    "# Add labels and title\n",
    "plt.legend(title=None)\n",
    "plt.xlabel(' ')\n",
    "plt.ylabel('User Count by million')\n",
    "plt.title('Spending Habbits by Region')\n",
    "plt.xticks(rotation=0)\n",
    "\n",
    "plt.savefig(os.path.join(path, '04 Analysis','Visualizations', 'Spending Habbits by Region.png')) # Save figure"
   ]
  },
  {
   "cell_type": "code",
   "execution_count": 73,
   "id": "e52ddabd",
   "metadata": {},
   "outputs": [],
   "source": [
    "# create age groups on given criterias\n",
    "df_all.loc[(df_all['age']>=18) & (df_all['age']<=39), 'age_group'] ='young adult' \n",
    "df_all.loc[(df_all['age']>=40) & (df_all['age']<=59), 'age_group'] ='mid-age'\n",
    "df_all.loc[(df_all['age']>=60), 'age_group'] ='senior'"
   ]
  },
  {
   "cell_type": "code",
   "execution_count": 74,
   "id": "60be52b3",
   "metadata": {
    "scrolled": true
   },
   "outputs": [
    {
     "data": {
      "text/plain": [
       "age_group\n",
       "young adult    11164192\n",
       "senior         11067255\n",
       "mid-age        10173412\n",
       "Name: count, dtype: int64"
      ]
     },
     "execution_count": 74,
     "metadata": {},
     "output_type": "execute_result"
    }
   ],
   "source": [
    "df_all['age_group'].value_counts(dropna=False)"
   ]
  },
  {
   "cell_type": "code",
   "execution_count": 75,
   "id": "3d2a0dd7",
   "metadata": {},
   "outputs": [],
   "source": [
    "# creating percentage for age group \n",
    "age_group_percent = (df_all['age_group'].value_counts(normalize=True) * 100).sort_index()"
   ]
  },
  {
   "cell_type": "code",
   "execution_count": 76,
   "id": "4d089d4a",
   "metadata": {},
   "outputs": [
    {
     "data": {
      "image/png": "[encoded data removed]",
      "text/plain": [
       "<Figure size 640x480 with 1 Axes>"
      ]
     },
     "metadata": {},
     "output_type": "display_data"
    }
   ],
   "source": [
    "# Create Pie Chart  for age group\n",
    "age_group_pie = plt.pie(age_group_percent, labels=age_group_percent.index, autopct='%1.1f%%',  colors=['mistyrose', 'salmon','tomato'])\n",
    "plt.title('Age Group Ratio')\n",
    "plt.savefig(os.path.join(path, '04 Analysis', 'Visualizations', 'age group ratio pie.png'))"
   ]
  },
  {
   "cell_type": "code",
   "execution_count": 77,
   "id": "758a0d4c",
   "metadata": {},
   "outputs": [
    {
     "data": {
      "image/png": "[encoded data removed]",
      "text/plain": [
       "<Figure size 640x480 with 1 Axes>"
      ]
     },
     "metadata": {},
     "output_type": "display_data"
    }
   ],
   "source": [
    "# plot brand loyalty by age group \n",
    "df_all.groupby(['age_group', 'loyalty_flag']).size().unstack().plot.bar(color=['salmon', 'mistyrose','tomato'])\n",
    "# Add labels and title\n",
    "plt.legend(title=None)\n",
    "plt.xlabel(' ')\n",
    "plt.ylabel('User Count')\n",
    "plt.title('Brand Loyalty by Age Groups')\n",
    "plt.xticks(rotation=0)\n",
    "\n",
    "plt.savefig(os.path.join(path, '04 Analysis','Visualizations', 'Brand Loyalty by Age Groups.png')) # Save figure"
   ]
  },
  {
   "cell_type": "code",
   "execution_count": 78,
   "id": "22b97449",
   "metadata": {},
   "outputs": [
    {
     "data": {
      "image/png": "[encoded data removed]",
      "text/plain": [
       "<Figure size 640x480 with 1 Axes>"
      ]
     },
     "metadata": {},
     "output_type": "display_data"
    }
   ],
   "source": [
    "# plot Spending Habbits by Age Groups\n",
    "df_all.groupby(['age_group', 'spending_flag']).size().unstack().plot.bar(color=[ 'mistyrose','tomato'])\n",
    "# Add labels and title\n",
    "plt.legend(title=None)\n",
    "plt.xlabel(' ')\n",
    "plt.ylabel('User Count')\n",
    "plt.title('Spending Habbits by Age Groups')\n",
    "plt.xticks(rotation=0)\n",
    "\n",
    "plt.savefig(os.path.join(path, '04 Analysis','Visualizations', 'Spending Habbits by Age Groups.png')) # Save figure"
   ]
  },
  {
   "cell_type": "code",
   "execution_count": 79,
   "id": "c386b2f0",
   "metadata": {},
   "outputs": [],
   "source": [
    "# create income groups on given criterias\n",
    "df_all.loc[(df_all['income']>=25903) & (df_all['income']<=55000), 'income_group'] ='low-class' \n",
    "df_all.loc[(df_all['income']>=55001) & (df_all['income']<=149131), 'income_group'] ='middle-class'\n",
    "df_all.loc[(df_all['income']>=149132), 'income_group'] ='upper-class'"
   ]
  },
  {
   "cell_type": "code",
   "execution_count": 80,
   "id": "5b7448e6",
   "metadata": {},
   "outputs": [
    {
     "data": {
      "text/plain": [
       "income_group\n",
       "middle-class    23447023\n",
       "low-class        4739985\n",
       "upper-class      4217851\n",
       "Name: count, dtype: int64"
      ]
     },
     "execution_count": 80,
     "metadata": {},
     "output_type": "execute_result"
    }
   ],
   "source": [
    "df_all['income_group'].value_counts(dropna=False)"
   ]
  },
  {
   "cell_type": "code",
   "execution_count": 81,
   "id": "f1b354a3",
   "metadata": {},
   "outputs": [],
   "source": [
    "# creating percentage for income group \n",
    "income_group_percent = (df_all['income_group'].value_counts(normalize=True) * 100).sort_index()"
   ]
  },
  {
   "cell_type": "code",
   "execution_count": 82,
   "id": "4628c240",
   "metadata": {},
   "outputs": [
    {
     "data": {
      "image/png": "[encoded data removed]",
      "text/plain": [
       "<Figure size 640x480 with 1 Axes>"
      ]
     },
     "metadata": {},
     "output_type": "display_data"
    }
   ],
   "source": [
    "# Create Pie Chart  for income group\n",
    "income_group_pie = plt.pie(income_group_percent, labels=income_group_percent.index, autopct='%1.1f%%',  colors=['mistyrose', 'salmon','tomato'])\n",
    "plt.title('Income Group Ratio')\n",
    "plt.savefig(os.path.join(path, '04 Analysis', 'Visualizations', ' group ratio pie.png'))"
   ]
  },
  {
   "cell_type": "code",
   "execution_count": 83,
   "id": "1d9af398",
   "metadata": {},
   "outputs": [
    {
     "data": {
      "image/png": "[encoded data removed]",
      "text/plain": [
       "<Figure size 640x480 with 1 Axes>"
      ]
     },
     "metadata": {},
     "output_type": "display_data"
    }
   ],
   "source": [
    "# plot Brand Loyalty by Income Groups\n",
    "df_all.groupby(['income_group', 'loyalty_flag']).size().unstack().plot.bar(color=[ 'salmon','mistyrose','tomato'])\n",
    "# Add labels and title\n",
    "plt.legend(title=None)\n",
    "plt.xlabel(' ')\n",
    "plt.ylabel('User Count')\n",
    "plt.title('Brand Loyalty by Income Groups')\n",
    "plt.xticks(rotation=0)\n",
    "\n",
    "plt.savefig(os.path.join(path, '04 Analysis','Visualizations', 'Brand Loyalty by Income Groups.png')) # Save figure"
   ]
  },
  {
   "cell_type": "code",
   "execution_count": 84,
   "id": "0f3f848d",
   "metadata": {},
   "outputs": [
    {
     "data": {
      "image/png": "[encoded data removed]",
      "text/plain": [
       "<Figure size 640x480 with 1 Axes>"
      ]
     },
     "metadata": {},
     "output_type": "display_data"
    }
   ],
   "source": [
    "# plot Spending Habbits by Income Groups\n",
    "df_all.groupby(['income_group', 'spending_flag']).size().unstack().plot.bar(color=[ 'mistyrose','tomato'])\n",
    "# Add labels and title\n",
    "plt.legend(title=None)\n",
    "plt.xlabel(' ')\n",
    "plt.ylabel('User Count')\n",
    "plt.title('Spending Habbits by Income Groups')\n",
    "plt.xticks(rotation=0)\n",
    "\n",
    "plt.savefig(os.path.join(path, '04 Analysis','Visualizations', 'Spending Habbits by Income Groups.png')) # Save figure"
   ]
  },
  {
   "cell_type": "code",
   "execution_count": null,
   "id": "e7de15a9",
   "metadata": {},
   "outputs": [],
   "source": []
  }
 ],
 "metadata": {
  "kernelspec": {
   "display_name": "Python 3 (ipykernel)",
   "language": "python",
   "name": "python3"
  },
  "language_info": {
   "codemirror_mode": {
    "name": "ipython",
    "version": 3
   },
   "file_extension": ".py",
   "mimetype": "text/x-python",
   "name": "python",
   "nbconvert_exporter": "python",
   "pygments_lexer": "ipython3",
   "version": "3.11.5"
  }
 },
 "nbformat": 4,
 "nbformat_minor": 5
}
